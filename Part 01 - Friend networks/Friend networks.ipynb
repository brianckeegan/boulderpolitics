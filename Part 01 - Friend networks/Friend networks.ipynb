{
 "cells": [
  {
   "cell_type": "markdown",
   "id": "a07d12e5",
   "metadata": {},
   "source": [
    "# Online political networks of Boulder\n",
    "[Brian C. Keegan, Ph.D.](http://brianckeegan.com/)  \n",
    "[Assistant Professor, Department of Information Science](https://www.colorado.edu/cmci/people/information-science/brian-c-keegan)  \n",
    "University of Colorado Boulder  \n",
    "\n",
    "Copyright and distributed under an [MIT License](https://opensource.org/licenses/MIT)"
   ]
  },
  {
   "cell_type": "markdown",
   "id": "7dd1c1e5",
   "metadata": {},
   "source": [
    "## Import libraries"
   ]
  },
  {
   "cell_type": "code",
   "execution_count": 2,
   "id": "cc606329",
   "metadata": {},
   "outputs": [],
   "source": [
    "# Lets Jupyter Notebook display images in-line\n",
    "%matplotlib inline\n",
    "import matplotlib.pyplot as plt\n",
    "import seaborn as sb\n",
    "\n",
    "# Import Twitter API wrapper\n",
    "import twitter\n",
    "\n",
    "# Import our helper libraries\n",
    "import numpy as np\n",
    "import pandas as pd\n",
    "import networkx as nx\n",
    "\n",
    "pd.options.display.max_columns = 100\n",
    "\n",
    "# \n",
    "from datetime import datetime, timedelta\n",
    "import json\n",
    "import requests\n",
    "from bs4 import BeautifulSoup\n",
    "import time\n",
    "from urllib.error import HTTPError\n",
    "from urllib.parse import quote, unquote"
   ]
  },
  {
   "cell_type": "code",
   "execution_count": 3,
   "id": "cb2366ed",
   "metadata": {},
   "outputs": [],
   "source": [
    "def chunks(l, n=50):\n",
    "    \"\"\"\n",
    "    Yield successive n-sized chunks from l.\n",
    "    Adapted from: https://stackoverflow.com/questions/312443/how-do-you-split-a-list-into-evenly-sized-chunks    \n",
    "    \"\"\"\n",
    "    for i in range(0, len(l), n):\n",
    "        yield l[i:i + n]"
   ]
  },
  {
   "cell_type": "markdown",
   "id": "71dec46b",
   "metadata": {},
   "source": [
    "## Configure API access\n",
    "\n",
    "This will not work for you until you [set up your own Twitter application](https://developer.twitter.com/en/docs/twitter-api/getting-started/getting-access-to-the-twitter-api)."
   ]
  },
  {
   "cell_type": "code",
   "execution_count": 4,
   "id": "448ec509",
   "metadata": {},
   "outputs": [],
   "source": [
    "# Load my key information from disk\n",
    "with open('twitter_v2_keys.json','r') as f:\n",
    "    twitter_keys = json.load(f)\n",
    "\n",
    "# Authenticate with the Twitter API using the twitter_keys dictionary\n",
    "api = twitter.Twitter(\n",
    "    auth = twitter.OAuth(\n",
    "        token = twitter_keys['access_token'],\n",
    "        token_secret = twitter_keys['access_token_secret'],\n",
    "        consumer_key = twitter_keys['api_key'],\n",
    "        consumer_secret = twitter_keys['api_key_secret']\n",
    "    ),\n",
    ")"
   ]
  },
  {
   "cell_type": "markdown",
   "id": "e17de089",
   "metadata": {},
   "source": [
    "## Define members and candidates\n",
    "\n",
    "This is a hand-curated list based on information I could find from Twitter's search functionality."
   ]
  },
  {
   "cell_type": "code",
   "execution_count": 5,
   "id": "4cac4259",
   "metadata": {},
   "outputs": [],
   "source": [
    "members = {\n",
    "    'Aaron Brockett': {'account_name':'AaronBrockett12'},\n",
    "    'Rachel Friend': {'account_name':'rachelkfriend'},\n",
    "    'Junie Joseph': {'account_name':'Junie4Boulder'},\n",
    "    'Mirabai Nagle': {'account_name':None},\n",
    "    'Adam Swtlik': {'account_name':'AdamSwetlik'},\n",
    "    'Mark Wallach': {'account_name':None},\n",
    "    'Sam Weaver': {'account_name':'sampweaver'},\n",
    "    'Bob Yates': {'account_name':None},\n",
    "    'Mary Young': {'account_name':'marydoloyoung'}}\n",
    "\n",
    "candidates = {\n",
    "    'Matt Benjamin': {'account_name':'MBforBoulder'},\n",
    "    'Michael Christy': {'account_name':None},\n",
    "    'Jaques Decalo': {'account_name':None},\n",
    "    'Lauren Folkerts': {'account_name':'BoulderLauren4'},\n",
    "    'Steven Rosenblum': {'account_name':None},\n",
    "    'Nicole Speer': {'account_name':'NicoleKSpeer'},\n",
    "    'David Takahaski': {'account_name':None},\n",
    "    'Mark Wallach': {'account_name':None},\n",
    "    'Dan Williams': {'account_name':'DanWilliams303'},\n",
    "    'Tara Winer': {'account_name':'TaraWiner'}\n",
    "}"
   ]
  },
  {
   "cell_type": "markdown",
   "id": "0039159d",
   "metadata": {},
   "source": [
    "## Get data about members and candidates accounts\n",
    "\n",
    "For each member and candidate, retrieve their Twitter meta-data from the [GET users/lookup](https://developer.twitter.com/en/docs/twitter-api/v1/accounts-and-users/follow-search-get-users/api-reference/get-users-lookup) API endpoint."
   ]
  },
  {
   "cell_type": "code",
   "execution_count": null,
   "id": "22dbe8d6",
   "metadata": {},
   "outputs": [],
   "source": [
    "# For each member\n",
    "for _name,_d in members.items():\n",
    "    _account_name = _d['account_name']\n",
    "    if _account_name is not None:\n",
    "        \n",
    "        # Look up their information\n",
    "        _lookup = api.users.lookup(screen_name=_account_name)\n",
    "        _d['account_id'] = _lookup[0]['id_str']\n",
    "        _d['followers_count'] = _lookup[0]['followers_count']\n",
    "        _d['friends_count'] = _lookup[0]['friends_count']\n",
    "        _d['account_created'] = _lookup[0]['created_at']\n",
    "        _d['statuses_count'] = _lookup[0]['statuses_count']"
   ]
  },
  {
   "cell_type": "code",
   "execution_count": 20,
   "id": "e5dcba8c",
   "metadata": {},
   "outputs": [],
   "source": [
    "for _name,_d in candidates.items():\n",
    "    _account_name = _d['account_name']\n",
    "    if _account_name is not None:\n",
    "        _lookup = api.users.lookup(screen_name=_account_name)\n",
    "        _d['account_id'] = _lookup[0]['id_str']\n",
    "        _d['followers_count'] = _lookup[0]['followers_count']\n",
    "        _d['friends_count'] = _lookup[0]['friends_count']\n",
    "        _d['account_created'] = _lookup[0]['created_at']\n",
    "        _d['statuses_count'] = _lookup[0]['statuses_count']"
   ]
  },
  {
   "cell_type": "markdown",
   "id": "2c904749",
   "metadata": {},
   "source": [
    "## Get members' friends\n",
    "\n",
    "For each member and candidate, retrieve their friend IDs from the [GET friends/ids](https://developer.twitter.com/en/docs/twitter-api/v1/accounts-and-users/follow-search-get-users/api-reference/get-friends-ids) API endpoint."
   ]
  },
  {
   "cell_type": "code",
   "execution_count": 94,
   "id": "d52f8d92",
   "metadata": {},
   "outputs": [],
   "source": [
    "# Create an empty container\n",
    "member_friend_ids = {}"
   ]
  },
  {
   "cell_type": "code",
   "execution_count": null,
   "id": "530af626",
   "metadata": {},
   "outputs": [],
   "source": [
    "# For each member, get their friend IDs\n",
    "for _name, _d in members.items():\n",
    "    _account_name = _d['account_name']\n",
    "    if _account_name is not None:\n",
    "        _account_id = _d['account_id']\n",
    "        if _account_id not in member_friend_ids:\n",
    "            member_friend_ids[_account_id] = api.friends.ids(user_id=_account_id,count=5000)['ids']\n",
    "        "
   ]
  },
  {
   "cell_type": "code",
   "execution_count": 98,
   "id": "243238fd",
   "metadata": {},
   "outputs": [],
   "source": [
    "# Save to disk\n",
    "with open('member_friend_ids.json','w') as f:\n",
    "    json.dump(member_friend_ids,f)"
   ]
  },
  {
   "cell_type": "code",
   "execution_count": 100,
   "id": "6114afcd",
   "metadata": {},
   "outputs": [],
   "source": [
    "# Create an empty container\n",
    "candidate_friend_ids = {}"
   ]
  },
  {
   "cell_type": "code",
   "execution_count": 102,
   "id": "cf85b760",
   "metadata": {},
   "outputs": [],
   "source": [
    "# For each candidate, get their friend IDS\n",
    "for _name, _d in candidates.items():\n",
    "    _account_name = _d['account_name']\n",
    "    if _account_name is not None:\n",
    "        _account_id = _d['account_id']\n",
    "        if _account_id not in candidate_friend_ids:\n",
    "            try:\n",
    "                candidate_friend_ids[_account_id] = api.friends.ids(user_id=_account_id,count=5000)['ids']\n",
    "            except:\n",
    "                pass"
   ]
  },
  {
   "cell_type": "code",
   "execution_count": 103,
   "id": "19e0e028",
   "metadata": {},
   "outputs": [],
   "source": [
    "# Save to disk\n",
    "with open('candidate_friend_ids.json','w') as f:\n",
    "    json.dump(candidate_friend_ids,f)"
   ]
  },
  {
   "cell_type": "markdown",
   "id": "fd7bf328",
   "metadata": {},
   "source": [
    "## Repeats among friends\n",
    "\n",
    "Identify repeated friends among the members and candidates."
   ]
  },
  {
   "cell_type": "code",
   "execution_count": 106,
   "id": "3728588c",
   "metadata": {},
   "outputs": [],
   "source": [
    "# Load the data about members' and candidates' friends.\n",
    "\n",
    "with open('member_friend_ids.json','r') as f:\n",
    "    member_friend_ids = json.load(f)\n",
    "\n",
    "with open('candidate_friend_ids.json','r') as f:\n",
    "    candidate_friend_ids = json.load(f)"
   ]
  },
  {
   "cell_type": "code",
   "execution_count": 107,
   "id": "03cd7a50",
   "metadata": {},
   "outputs": [
    {
     "name": "stdout",
     "output_type": "stream",
     "text": [
      "There are 2,141 items in the members' friends\n",
      "There are 1,159 items in the candidates' friends\n",
      "There are 2,886 items in the both sets' friends\n"
     ]
    }
   ],
   "source": [
    "count_s = \"There are {0:,} items\"\n",
    "\n",
    "# Count the number of unique friends of members\n",
    "unique_member_friend_ids = set([_friend for _friend_id_l in member_friend_ids.values() for _friend in _friend_id_l])\n",
    "print(count_s.format(len(unique_member_friend_ids)) + \" in the members' friends\")\n",
    "\n",
    "# Count the number of unique friends of candidates\n",
    "unique_candidate_friend_ids = set([_friend for _friend_id_l in candidate_friend_ids.values() for _friend in _friend_id_l])\n",
    "print(count_s.format(len(unique_candidate_friend_ids)) + \" in the candidates' friends\")\n",
    "\n",
    "# Combine both and count the unique friends of both\n",
    "unique_combined_friend_ids = unique_member_friend_ids | unique_candidate_friend_ids\n",
    "print(count_s.format(len(unique_combined_friend_ids)) + \" in the both sets' friends\")"
   ]
  },
  {
   "cell_type": "code",
   "execution_count": 114,
   "id": "2a0ee54e",
   "metadata": {},
   "outputs": [
    {
     "data": {
      "image/png": "[encoded data removed]",
      "text/plain": [
       "<Figure size 432x288 with 1 Axes>"
      ]
     },
     "metadata": {
      "needs_background": "light"
     },
     "output_type": "display_data"
    }
   ],
   "source": [
    "# Count the number of times an account was followed by a member of candidate\n",
    "flattened_member_friends = [_friend for _friend_id_l in member_friend_ids.values() for _friend in _friend_id_l]\n",
    "flattened_candidate_friends = [_friend for _friend_id_l in candidate_friend_ids.values() for _friend in _friend_id_l]\n",
    "combined_friends_count = pd.Series(flattened_member_friends + flattened_candidate_friends).value_counts()\n",
    "\n",
    "# Make a histogram of these counts\n",
    "ax = combined_friends_count.value_counts().sort_index().plot.bar()\n",
    "ax.set_ylim((0,2500))\n",
    "ax.set_xlabel('Number of seed accounts following')\n",
    "ax.set_ylabel('Number of accounts')\n",
    "ax.set_xticklabels(ax.get_xticklabels(),rotation=0)\n",
    "ax.set_facecolor('white')\n",
    "\n",
    "for _x,_y in combined_friends_count.value_counts().sort_index().to_dict().items():\n",
    "    ax.annotate(\n",
    "        text = \"{0:,}\".format(_y),\n",
    "        xy = (_x-1,_y+20),\n",
    "        ha = 'center',\n",
    "        va = 'bottom'\n",
    "    )\n",
    "\n",
    "plt.savefig('friend_count.png',dpi=300)"
   ]
  },
  {
   "cell_type": "code",
   "execution_count": 134,
   "id": "10616727",
   "metadata": {},
   "outputs": [],
   "source": [
    "# Accounts that are friended by more than 1 account\n",
    "gt1_friends = [str(i) for i in combined_friends_count[combined_friends_count > 1].index]"
   ]
  },
  {
   "cell_type": "markdown",
   "id": "10f277fc",
   "metadata": {},
   "source": [
    "## Get friends info\n",
    "\n",
    "For each of the seeds' friends, retrieve their Twitter meta-data from the [GET users/lookup](https://developer.twitter.com/en/docs/twitter-api/v1/accounts-and-users/follow-search-get-users/api-reference/get-users-lookup) API endpoint."
   ]
  },
  {
   "cell_type": "code",
   "execution_count": 216,
   "id": "919cfdd1",
   "metadata": {},
   "outputs": [],
   "source": [
    "friends_lookup_l = []\n",
    "\n",
    "for _chunk in chunks(gt1_friends,100):\n",
    "    friends_lookup_l += api.users.lookup(user_id=\",\".join(_chunk))"
   ]
  },
  {
   "cell_type": "code",
   "execution_count": 219,
   "id": "19160da8",
   "metadata": {},
   "outputs": [
    {
     "name": "stdout",
     "output_type": "stream",
     "text": [
      "692\n"
     ]
    },
    {
     "data": {
      "text/html": [
       "<div>\n",
       "<style scoped>\n",
       "    .dataframe tbody tr th:only-of-type {\n",
       "        vertical-align: middle;\n",
       "    }\n",
       "\n",
       "    .dataframe tbody tr th {\n",
       "        vertical-align: top;\n",
       "    }\n",
       "\n",
       "    .dataframe thead th {\n",
       "        text-align: right;\n",
       "    }\n",
       "</style>\n",
       "<table border=\"1\" class=\"dataframe\">\n",
       "  <thead>\n",
       "    <tr style=\"text-align: right;\">\n",
       "      <th></th>\n",
       "      <th>id</th>\n",
       "      <th>name</th>\n",
       "      <th>screen_name</th>\n",
       "      <th>location</th>\n",
       "      <th>description</th>\n",
       "      <th>protected</th>\n",
       "      <th>followers_count</th>\n",
       "      <th>friends_count</th>\n",
       "      <th>created_at</th>\n",
       "      <th>verified</th>\n",
       "      <th>statuses_count</th>\n",
       "    </tr>\n",
       "  </thead>\n",
       "  <tbody>\n",
       "    <tr>\n",
       "      <th>0</th>\n",
       "      <td>1180562421489926145</td>\n",
       "      <td>Lisa Sweeney-Miran</td>\n",
       "      <td>LSweeneyMiran</td>\n",
       "      <td>Boulder, CO</td>\n",
       "      <td>Boulder Valley Board of Education. Unhoused Sh...</td>\n",
       "      <td>False</td>\n",
       "      <td>1075</td>\n",
       "      <td>2938</td>\n",
       "      <td>Sat Oct 05 19:16:37 +0000 2019</td>\n",
       "      <td>True</td>\n",
       "      <td>1783</td>\n",
       "    </tr>\n",
       "    <tr>\n",
       "      <th>1</th>\n",
       "      <td>1088864341988798469</td>\n",
       "      <td>Mark McIntyre</td>\n",
       "      <td>1MarkMcIntyre</td>\n",
       "      <td>Boulder, CO</td>\n",
       "      <td>World citizen, Boulderite, Cyclist, Transporta...</td>\n",
       "      <td>False</td>\n",
       "      <td>607</td>\n",
       "      <td>626</td>\n",
       "      <td>Fri Jan 25 18:21:04 +0000 2019</td>\n",
       "      <td>False</td>\n",
       "      <td>1182</td>\n",
       "    </tr>\n",
       "    <tr>\n",
       "      <th>2</th>\n",
       "      <td>117004374</td>\n",
       "      <td>Mitchell Byars</td>\n",
       "      <td>mitchellbyars</td>\n",
       "      <td>Boulder, CO via Kona, Hawaii</td>\n",
       "      <td>Crime and breaking news/social media/web @dail...</td>\n",
       "      <td>False</td>\n",
       "      <td>22901</td>\n",
       "      <td>16357</td>\n",
       "      <td>Wed Feb 24 07:00:45 +0000 2010</td>\n",
       "      <td>True</td>\n",
       "      <td>50919</td>\n",
       "    </tr>\n",
       "    <tr>\n",
       "      <th>3</th>\n",
       "      <td>16633715</td>\n",
       "      <td>Jon Carroll</td>\n",
       "      <td>admiraljonjon</td>\n",
       "      <td>Boulder, Sol System, Milky Way</td>\n",
       "      <td>These aren't the tweets you are looking for. T...</td>\n",
       "      <td>False</td>\n",
       "      <td>758</td>\n",
       "      <td>913</td>\n",
       "      <td>Tue Oct 07 18:14:58 +0000 2008</td>\n",
       "      <td>False</td>\n",
       "      <td>4148</td>\n",
       "    </tr>\n",
       "    <tr>\n",
       "      <th>4</th>\n",
       "      <td>1038135102448926720</td>\n",
       "      <td>SarahDawn Haynes</td>\n",
       "      <td>SarahdawnH</td>\n",
       "      <td>Boulder, CO</td>\n",
       "      <td>Possibilities Cartographer. Mapping out prefer...</td>\n",
       "      <td>False</td>\n",
       "      <td>1117</td>\n",
       "      <td>5001</td>\n",
       "      <td>Fri Sep 07 18:41:10 +0000 2018</td>\n",
       "      <td>False</td>\n",
       "      <td>12300</td>\n",
       "    </tr>\n",
       "  </tbody>\n",
       "</table>\n",
       "</div>"
      ],
      "text/plain": [
       "                    id                name    screen_name  \\\n",
       "0  1180562421489926145  Lisa Sweeney-Miran  LSweeneyMiran   \n",
       "1  1088864341988798469       Mark McIntyre  1MarkMcIntyre   \n",
       "2            117004374      Mitchell Byars  mitchellbyars   \n",
       "3             16633715         Jon Carroll  admiraljonjon   \n",
       "4  1038135102448926720    SarahDawn Haynes     SarahdawnH   \n",
       "\n",
       "                         location  \\\n",
       "0                     Boulder, CO   \n",
       "1                     Boulder, CO   \n",
       "2    Boulder, CO via Kona, Hawaii   \n",
       "3  Boulder, Sol System, Milky Way   \n",
       "4                     Boulder, CO   \n",
       "\n",
       "                                         description  protected  \\\n",
       "0  Boulder Valley Board of Education. Unhoused Sh...      False   \n",
       "1  World citizen, Boulderite, Cyclist, Transporta...      False   \n",
       "2  Crime and breaking news/social media/web @dail...      False   \n",
       "3  These aren't the tweets you are looking for. T...      False   \n",
       "4  Possibilities Cartographer. Mapping out prefer...      False   \n",
       "\n",
       "   followers_count  friends_count                      created_at  verified  \\\n",
       "0             1075           2938  Sat Oct 05 19:16:37 +0000 2019      True   \n",
       "1              607            626  Fri Jan 25 18:21:04 +0000 2019     False   \n",
       "2            22901          16357  Wed Feb 24 07:00:45 +0000 2010      True   \n",
       "3              758            913  Tue Oct 07 18:14:58 +0000 2008     False   \n",
       "4             1117           5001  Fri Sep 07 18:41:10 +0000 2018     False   \n",
       "\n",
       "   statuses_count  \n",
       "0            1783  \n",
       "1            1182  \n",
       "2           50919  \n",
       "3            4148  \n",
       "4           12300  "
      ]
     },
     "execution_count": 219,
     "metadata": {},
     "output_type": "execute_result"
    }
   ],
   "source": [
    "friend_lookup_df_d = []\n",
    "\n",
    "# Pull out relevant data\n",
    "for _l in friends_lookup_l:\n",
    "    _d = {}\n",
    "    _d['id'] = _l['id_str']\n",
    "    _d['name'] = _l['name']\n",
    "    _d['screen_name'] = _l['screen_name']\n",
    "    _d['location'] = _l['location']\n",
    "    _d['description'] = _l['description']\n",
    "    _d['protected'] = _l['protected']\n",
    "    _d['followers_count'] = _l['followers_count']\n",
    "    _d['friends_count'] = _l['friends_count']\n",
    "    _d['created_at'] = _l['created_at']\n",
    "    _d['verified'] = _l['verified']\n",
    "    _d['statuses_count'] = _l['statuses_count']\n",
    "    friend_lookup_df_d.append(_d)\n",
    "    \n",
    "friend_lookup_df = pd.DataFrame(friend_lookup_df_d)\n",
    "friend_lookup_df.to_csv('friends_lookup.csv',index=False)"
   ]
  },
  {
   "cell_type": "code",
   "execution_count": 10,
   "id": "c6d880b7",
   "metadata": {},
   "outputs": [
    {
     "name": "stdout",
     "output_type": "stream",
     "text": [
      "692\n"
     ]
    },
    {
     "data": {
      "text/html": [
       "<div>\n",
       "<style scoped>\n",
       "    .dataframe tbody tr th:only-of-type {\n",
       "        vertical-align: middle;\n",
       "    }\n",
       "\n",
       "    .dataframe tbody tr th {\n",
       "        vertical-align: top;\n",
       "    }\n",
       "\n",
       "    .dataframe thead th {\n",
       "        text-align: right;\n",
       "    }\n",
       "</style>\n",
       "<table border=\"1\" class=\"dataframe\">\n",
       "  <thead>\n",
       "    <tr style=\"text-align: right;\">\n",
       "      <th></th>\n",
       "      <th>id</th>\n",
       "      <th>name</th>\n",
       "      <th>screen_name</th>\n",
       "      <th>location</th>\n",
       "      <th>description</th>\n",
       "      <th>protected</th>\n",
       "      <th>followers_count</th>\n",
       "      <th>friends_count</th>\n",
       "      <th>created_at</th>\n",
       "      <th>verified</th>\n",
       "      <th>statuses_count</th>\n",
       "    </tr>\n",
       "  </thead>\n",
       "  <tbody>\n",
       "    <tr>\n",
       "      <th>0</th>\n",
       "      <td>1180562421489926145</td>\n",
       "      <td>Lisa Sweeney-Miran</td>\n",
       "      <td>LSweeneyMiran</td>\n",
       "      <td>Boulder, CO</td>\n",
       "      <td>Boulder Valley Board of Education. Unhoused Sh...</td>\n",
       "      <td>False</td>\n",
       "      <td>1075</td>\n",
       "      <td>2938</td>\n",
       "      <td>Sat Oct 05 19:16:37 +0000 2019</td>\n",
       "      <td>True</td>\n",
       "      <td>1783</td>\n",
       "    </tr>\n",
       "    <tr>\n",
       "      <th>1</th>\n",
       "      <td>1088864341988798469</td>\n",
       "      <td>Mark McIntyre</td>\n",
       "      <td>1MarkMcIntyre</td>\n",
       "      <td>Boulder, CO</td>\n",
       "      <td>World citizen, Boulderite, Cyclist, Transporta...</td>\n",
       "      <td>False</td>\n",
       "      <td>607</td>\n",
       "      <td>626</td>\n",
       "      <td>Fri Jan 25 18:21:04 +0000 2019</td>\n",
       "      <td>False</td>\n",
       "      <td>1182</td>\n",
       "    </tr>\n",
       "    <tr>\n",
       "      <th>2</th>\n",
       "      <td>117004374</td>\n",
       "      <td>Mitchell Byars</td>\n",
       "      <td>mitchellbyars</td>\n",
       "      <td>Boulder, CO via Kona, Hawaii</td>\n",
       "      <td>Crime and breaking news/social media/web @dail...</td>\n",
       "      <td>False</td>\n",
       "      <td>22901</td>\n",
       "      <td>16357</td>\n",
       "      <td>Wed Feb 24 07:00:45 +0000 2010</td>\n",
       "      <td>True</td>\n",
       "      <td>50919</td>\n",
       "    </tr>\n",
       "    <tr>\n",
       "      <th>3</th>\n",
       "      <td>16633715</td>\n",
       "      <td>Jon Carroll</td>\n",
       "      <td>admiraljonjon</td>\n",
       "      <td>Boulder, Sol System, Milky Way</td>\n",
       "      <td>These aren't the tweets you are looking for. T...</td>\n",
       "      <td>False</td>\n",
       "      <td>758</td>\n",
       "      <td>913</td>\n",
       "      <td>Tue Oct 07 18:14:58 +0000 2008</td>\n",
       "      <td>False</td>\n",
       "      <td>4148</td>\n",
       "    </tr>\n",
       "    <tr>\n",
       "      <th>4</th>\n",
       "      <td>1038135102448926720</td>\n",
       "      <td>SarahDawn Haynes</td>\n",
       "      <td>SarahdawnH</td>\n",
       "      <td>Boulder, CO</td>\n",
       "      <td>Possibilities Cartographer. Mapping out prefer...</td>\n",
       "      <td>False</td>\n",
       "      <td>1117</td>\n",
       "      <td>5001</td>\n",
       "      <td>Fri Sep 07 18:41:10 +0000 2018</td>\n",
       "      <td>False</td>\n",
       "      <td>12300</td>\n",
       "    </tr>\n",
       "  </tbody>\n",
       "</table>\n",
       "</div>"
      ],
      "text/plain": [
       "                    id                name    screen_name  \\\n",
       "0  1180562421489926145  Lisa Sweeney-Miran  LSweeneyMiran   \n",
       "1  1088864341988798469       Mark McIntyre  1MarkMcIntyre   \n",
       "2            117004374      Mitchell Byars  mitchellbyars   \n",
       "3             16633715         Jon Carroll  admiraljonjon   \n",
       "4  1038135102448926720    SarahDawn Haynes     SarahdawnH   \n",
       "\n",
       "                         location  \\\n",
       "0                     Boulder, CO   \n",
       "1                     Boulder, CO   \n",
       "2    Boulder, CO via Kona, Hawaii   \n",
       "3  Boulder, Sol System, Milky Way   \n",
       "4                     Boulder, CO   \n",
       "\n",
       "                                         description  protected  \\\n",
       "0  Boulder Valley Board of Education. Unhoused Sh...      False   \n",
       "1  World citizen, Boulderite, Cyclist, Transporta...      False   \n",
       "2  Crime and breaking news/social media/web @dail...      False   \n",
       "3  These aren't the tweets you are looking for. T...      False   \n",
       "4  Possibilities Cartographer. Mapping out prefer...      False   \n",
       "\n",
       "   followers_count  friends_count                      created_at  verified  \\\n",
       "0             1075           2938  Sat Oct 05 19:16:37 +0000 2019      True   \n",
       "1              607            626  Fri Jan 25 18:21:04 +0000 2019     False   \n",
       "2            22901          16357  Wed Feb 24 07:00:45 +0000 2010      True   \n",
       "3              758            913  Tue Oct 07 18:14:58 +0000 2008     False   \n",
       "4             1117           5001  Fri Sep 07 18:41:10 +0000 2018     False   \n",
       "\n",
       "   statuses_count  \n",
       "0            1783  \n",
       "1            1182  \n",
       "2           50919  \n",
       "3            4148  \n",
       "4           12300  "
      ]
     },
     "execution_count": 10,
     "metadata": {},
     "output_type": "execute_result"
    }
   ],
   "source": [
    "friend_lookup_df = pd.read_csv('friends_lookup.csv')\n",
    "print(len(friend_lookup_df))\n",
    "friend_lookup_df.head()"
   ]
  },
  {
   "cell_type": "code",
   "execution_count": 115,
   "id": "64f90793",
   "metadata": {},
   "outputs": [
    {
     "data": {
      "image/png": "[encoded data removed]",
      "text/plain": [
       "<Figure size 432x288 with 1 Axes>"
      ]
     },
     "metadata": {
      "needs_background": "light"
     },
     "output_type": "display_data"
    }
   ],
   "source": [
    "ax = friend_lookup_df['friends_count'].hist(bins=np.logspace(0,6,25))\n",
    "ax.set_xscale('log')\n",
    "ax.set_ylim((0,160))\n",
    "ax.grid(None)\n",
    "ax.set_xlabel('Friend count')\n",
    "ax.set_ylabel('Number of accounts')\n",
    "ax.axvline(25000,c='r',ls='--',lw=1)\n",
    "ax.set_facecolor('white')\n",
    "plt.savefig('friends_friend_count.png',dpi=300)"
   ]
  },
  {
   "cell_type": "code",
   "execution_count": 148,
   "id": "f4b94fb5",
   "metadata": {},
   "outputs": [],
   "source": [
    "# Accounts that have more than 25k friends that we will want to skip\n",
    "gt25k_friends = friend_lookup_df.loc[friend_lookup_df['friends_count'] > 25000,'id'].values.tolist()"
   ]
  },
  {
   "cell_type": "code",
   "execution_count": 26,
   "id": "49ea1385",
   "metadata": {},
   "outputs": [
    {
     "data": {
      "text/plain": [
       "82      BarackObama\n",
       "228    trish_zornio\n",
       "349        505Nomad\n",
       "392    amyklobuchar\n",
       "Name: screen_name, dtype: object"
      ]
     },
     "execution_count": 26,
     "metadata": {},
     "output_type": "execute_result"
    }
   ],
   "source": [
    "# Who has a lot of friends?\n",
    "friend_lookup_df.loc[friend_lookup_df['friends_count'] > 25000,'screen_name']"
   ]
  },
  {
   "cell_type": "code",
   "execution_count": 25,
   "id": "ae219693",
   "metadata": {},
   "outputs": [
    {
     "data": {
      "text/plain": [
       "688"
      ]
     },
     "execution_count": 25,
     "metadata": {},
     "output_type": "execute_result"
    }
   ],
   "source": [
    "# How many accounts have fewer than 25k friends?\n",
    "len(friend_lookup_df.loc[friend_lookup_df['friends_count'] < 25000,'screen_name'])"
   ]
  },
  {
   "cell_type": "code",
   "execution_count": 386,
   "id": "ec47e90e",
   "metadata": {},
   "outputs": [
    {
     "data": {
      "text/plain": [
       "2        mitchellbyars\n",
       "4           SarahdawnH\n",
       "5            ericmbudd\n",
       "39             unicorn\n",
       "62      PortiaColorado\n",
       "73          jaredpolis\n",
       "82         BarackObama\n",
       "110          cprwarner\n",
       "134          KyleClark\n",
       "206      shannonrwatts\n",
       "207        ClimateWest\n",
       "224          Hegemommy\n",
       "228       trish_zornio\n",
       "232               mdy1\n",
       "263               ACLU\n",
       "306           COSenDem\n",
       "324    elephantjournal\n",
       "338         ehernandez\n",
       "339     quantum_graeme\n",
       "349           505Nomad\n",
       "351         TeamPelosi\n",
       "352        waylonlewis\n",
       "362         IronStache\n",
       "372          tomhigley\n",
       "392       amyklobuchar\n",
       "393     bestofnextdoor\n",
       "396      HC_Richardson\n",
       "419      aliciawallace\n",
       "446    allontheline_co\n",
       "483            tedlieu\n",
       "493     RandiMcCallian\n",
       "507      RogerPielkeJr\n",
       "519      ShannonMarcom\n",
       "524         leestorrow\n",
       "566    DanielleMorrill\n",
       "678           ErinHott\n",
       "689           cmclymer\n",
       "Name: screen_name, dtype: object"
      ]
     },
     "execution_count": 386,
     "metadata": {},
     "output_type": "execute_result"
    }
   ],
   "source": [
    "# Who has more than 5k friends?\n",
    "friend_lookup_df.loc[friend_lookup_df['friends_count'] > 5000,'screen_name']"
   ]
  },
  {
   "cell_type": "code",
   "execution_count": null,
   "id": "38f43d6a",
   "metadata": {},
   "outputs": [],
   "source": [
    "# Accounts that are protected that we will want to skip\n",
    "protected_friends = friend_lookup_df.loc[friend_lookup_df['protected'],'id'].tolist()"
   ]
  },
  {
   "cell_type": "markdown",
   "id": "643e9005",
   "metadata": {},
   "source": [
    "## Get friends-of-friends\n",
    "\n",
    "For each unique friend, get their friends from from the [GET friends/ids](https://developer.twitter.com/en/docs/twitter-api/v1/accounts-and-users/follow-search-get-users/api-reference/get-friends-ids) API endpoint. This will take something like 11 hours."
   ]
  },
  {
   "cell_type": "code",
   "execution_count": 164,
   "id": "2e25b573",
   "metadata": {},
   "outputs": [],
   "source": [
    "# Make a function to handle retrieving paginated friend requests\n",
    "def get_friend_ids(user_id):\n",
    "    cursor = -1\n",
    "    friends_ids = []\n",
    "\n",
    "    while cursor != 0:\n",
    "        response = api.friends.ids(user_id=user_id,count=5000,cursor=cursor)\n",
    "\n",
    "        if len(response['ids']) > 0:\n",
    "            friends_ids += response['ids']\n",
    "\n",
    "        cursor = response['next_cursor']\n",
    "\n",
    "    return friends_ids"
   ]
  },
  {
   "cell_type": "code",
   "execution_count": 110,
   "id": "94f84185",
   "metadata": {},
   "outputs": [],
   "source": [
    "# Empty container with friend information\n",
    "friends_d = {}\n",
    "\n",
    "# Add friend information from members and candidates\n",
    "friends_d.update(member_friend_ids)\n",
    "friends_d.update(candidate_friend_ids)"
   ]
  },
  {
   "cell_type": "code",
   "execution_count": 202,
   "id": "8c6d30ba",
   "metadata": {},
   "outputs": [
    {
     "name": "stdout",
     "output_type": "stream",
     "text": [
      "At 2021-09-12 14:24:14.037128, sleeping for 732.962872 seconds.\n",
      "At 2021-09-12 14:36:34.025565, sleeping for 892.974435 seconds.\n",
      "At 2021-09-12 14:51:34.075787, sleeping for 892.924213 seconds.\n",
      "At 2021-09-12 15:06:34.317024, sleeping for 892.682976 seconds.\n",
      "At 2021-09-12 15:21:34.429544, sleeping for 892.570456 seconds.\n",
      "At 2021-09-12 15:36:34.476258, sleeping for 892.523742 seconds.\n",
      "At 2021-09-12 15:51:34.176109, sleeping for 892.823891 seconds.\n",
      "At 2021-09-12 16:06:34.369969, sleeping for 892.630031 seconds.\n",
      "At 2021-09-12 16:21:34.651259, sleeping for 892.348741 seconds.\n",
      "At 2021-09-12 16:36:35.039004, sleeping for 891.960996 seconds.\n",
      "At 2021-09-12 16:51:34.333346, sleeping for 892.666654 seconds.\n",
      "At 2021-09-12 17:14:34.920677, sleeping for 892.079323 seconds.\n",
      "At 2021-09-12 17:29:36.080106, sleeping for 890.919894 seconds.\n",
      "At 2021-09-12 17:44:35.857671, sleeping for 891.142329 seconds.\n",
      "At 2021-09-12 17:59:36.288149, sleeping for 890.711851 seconds.\n",
      "At 2021-09-12 18:14:36.612142, sleeping for 890.387858 seconds.\n",
      "At 2021-09-12 18:29:36.204456, sleeping for 890.795544 seconds.\n",
      "At 2021-09-12 18:44:36.144061, sleeping for 890.855939 seconds.\n",
      "At 2021-09-12 18:59:37.551857, sleeping for 889.448143 seconds.\n",
      "At 2021-09-12 19:14:36.423873, sleeping for 890.576127 seconds.\n",
      "At 2021-09-12 19:29:37.566271, sleeping for 889.433729 seconds.\n",
      "At 2021-09-12 19:44:37.695664, sleeping for 889.304336 seconds.\n",
      "At 2021-09-12 19:59:37.183528, sleeping for 889.816472 seconds.\n",
      "At 2021-09-12 20:14:38.071516, sleeping for 888.928484 seconds.\n",
      "At 2021-09-12 20:29:37.902173, sleeping for 889.097827 seconds.\n",
      "At 2021-09-12 20:44:36.842525, sleeping for 890.157475 seconds.\n",
      "At 2021-09-12 20:59:39.075275, sleeping for 887.924725 seconds.\n",
      "At 2021-09-12 21:14:38.690406, sleeping for 888.309594 seconds.\n",
      "At 2021-09-12 21:29:39.396329, sleeping for 887.603671 seconds.\n",
      "At 2021-09-12 21:44:39.477885, sleeping for 887.522115 seconds.\n",
      "At 2021-09-12 21:59:39.562918, sleeping for 887.437082 seconds.\n",
      "At 2021-09-12 22:14:40.077452, sleeping for 886.922548 seconds.\n",
      "At 2021-09-12 22:29:39.571054, sleeping for 887.428946 seconds.\n",
      "At 2021-09-12 22:44:38.255049, sleeping for 888.744951 seconds.\n"
     ]
    }
   ],
   "source": [
    "for friend_id in gt1_friends:\n",
    "    \n",
    "    # Check to make sure the friend ID isn't already in the dictionary and is not a high-friend account\n",
    "    if str(friend_id) not in friends_d.keys() and str(friend_id) not in gt25k_friends and str(friend_id) not in protected_friends:\n",
    "        \n",
    "        # Try to get the account's friends\n",
    "        try:\n",
    "            friends_d[friend_id] = get_friend_ids(friend_id)\n",
    "            \n",
    "        # If you get a TwitterError, assume its a rate limit problem\n",
    "        except twitter.TwitterError:\n",
    "            \n",
    "            # Get the current rate limit status\n",
    "            reset_time = api.application.rate_limit_status()['resources']['friends']['/friends/ids']['reset']\n",
    "            \n",
    "            # Wait until the API limit refreshed and add a second for good measure\n",
    "            sleep_time = (datetime.fromtimestamp(reset_time) - datetime.now())/timedelta(seconds=1) + 1\n",
    "            \n",
    "            # Print out to make sure\n",
    "            print(\"At {0}, sleeping for {1:.0} seconds.\".format(datetime.now(),sleep_time))\n",
    "            \n",
    "            # Sleep until our API limit refreshes\n",
    "            time.sleep(sleep_time)\n",
    "            \n",
    "            # Try to get the friend ID again\n",
    "            friends_d[friend_id] = get_friend_ids(friend_id)\n",
    "        \n",
    "        # Break for interrupts\n",
    "        except KeyboardInterrupt:\n",
    "            \n",
    "            break\n",
    "            \n",
    "        # Otherwise print out friend_ids and move on\n",
    "        except:\n",
    "            \n",
    "            print(\"Error on {0}\".format(friend_id))\n",
    "            pass\n",
    "            \n",
    "    # Write the friend IDs out to disk after each friend ID\n",
    "    with open('boulder_city_council_twitter_friends.json','w') as f:\n",
    "        json.dump(friends_d,f)"
   ]
  },
  {
   "cell_type": "code",
   "execution_count": 203,
   "id": "a11605f0",
   "metadata": {},
   "outputs": [
    {
     "data": {
      "text/plain": [
       "684"
      ]
     },
     "execution_count": 203,
     "metadata": {},
     "output_type": "execute_result"
    }
   ],
   "source": [
    "len(friends_d)"
   ]
  },
  {
   "cell_type": "code",
   "execution_count": 220,
   "id": "00d92d0b",
   "metadata": {},
   "outputs": [],
   "source": [
    "# Repair the data to get the friend IDs rather than the full payloads\n",
    "repaired_friends_d = {}\n",
    "\n",
    "for k,v in friends_d.items():\n",
    "    try:\n",
    "        repaired_friends_d[k] = v['ids']\n",
    "        \n",
    "    except:\n",
    "        repaired_friends_d[k] = v"
   ]
  },
  {
   "cell_type": "code",
   "execution_count": 300,
   "id": "eee1eae6",
   "metadata": {},
   "outputs": [],
   "source": [
    "# Some of these may be empty\n",
    "for _id,_l in repaired_friends_d.items():\n",
    "    if type(_l) != list:\n",
    "        print(_id)"
   ]
  },
  {
   "cell_type": "code",
   "execution_count": 350,
   "id": "a16274ac",
   "metadata": {},
   "outputs": [],
   "source": [
    "# Write to disk\n",
    "with open('boulder_city_council_twitter_friends_repaired.json','w') as f:\n",
    "    json.dump(repaired_friends_d,f)"
   ]
  },
  {
   "cell_type": "markdown",
   "id": "5dd6f421",
   "metadata": {},
   "source": [
    "## Get information about friends-of-friends"
   ]
  },
  {
   "cell_type": "code",
   "execution_count": 27,
   "id": "34491f5b",
   "metadata": {},
   "outputs": [],
   "source": [
    "# Open the friend-of-friend data\n",
    "with open('boulder_city_council_twitter_friends_repaired.json','r') as f:\n",
    "    repaired_friends_d = json.load(f)"
   ]
  },
  {
   "cell_type": "code",
   "execution_count": 28,
   "id": "aaab7afe",
   "metadata": {},
   "outputs": [
    {
     "data": {
      "text/plain": [
       "448603"
      ]
     },
     "execution_count": 28,
     "metadata": {},
     "output_type": "execute_result"
    }
   ],
   "source": [
    "# Count the unique number of friends-of-friends\n",
    "fof_ids = list(set([str(_id2) for _id, _id_l in repaired_friends_d.items() for _id2 in _id_l]))\n",
    "len(fof_ids)"
   ]
  },
  {
   "cell_type": "code",
   "execution_count": 29,
   "id": "3739f9c5",
   "metadata": {},
   "outputs": [
    {
     "data": {
      "text/plain": [
       "116947"
      ]
     },
     "execution_count": 29,
     "metadata": {},
     "output_type": "execute_result"
    }
   ],
   "source": [
    "# \n",
    "fof_ids_counts = pd.Series([str(_id2) for _id, _id_l in repaired_friends_d.items() for _id2 in _id_l]).value_counts()\n",
    "fof_ids_counts_gt2 = fof_ids_counts[fof_ids_counts > 1].index.tolist()\n",
    "len(fof_ids_counts_gt2)"
   ]
  },
  {
   "cell_type": "code",
   "execution_count": 47,
   "id": "bafe0dd3",
   "metadata": {},
   "outputs": [
    {
     "data": {
      "image/png": "[encoded data removed]",
      "text/plain": [
       "<Figure size 432x288 with 1 Axes>"
      ]
     },
     "metadata": {
      "needs_background": "light"
     },
     "output_type": "display_data"
    }
   ],
   "source": [
    "ax = fof_ids_counts.hist(bins=np.logspace(-1,3,25))\n",
    "ax.set_xlim((1e0,1e3))\n",
    "ax.set_xscale('log')\n",
    "ax.set_yscale('log')"
   ]
  },
  {
   "cell_type": "code",
   "execution_count": 251,
   "id": "3f194747",
   "metadata": {},
   "outputs": [],
   "source": [
    "fof_lookup_l = []\n",
    "fof_lookup_d_errors = []"
   ]
  },
  {
   "cell_type": "code",
   "execution_count": 252,
   "id": "dcaf7824",
   "metadata": {},
   "outputs": [
    {
     "name": "stdout",
     "output_type": "stream",
     "text": [
      "At 2021-09-13 09:32:38, sleeping for 105 seconds.\n"
     ]
    },
    {
     "ename": "TwitterHTTPError",
     "evalue": "Twitter sent status 429 for URL: 1.1/users/lookup.json using parameters: (oauth_consumer_key=2sqhiRWws5u4UsI2ekwSIHvNl&oauth_nonce=7223411657708000767&oauth_signature_method=HMAC-SHA1&oauth_timestamp=1631547264&oauth_token=16629994-cCldrjyp2Z9Ke5ufXjxsKsh6uH6Sl3dqzFpRuRVEV&oauth_version=1.0&user_id=2905444113%2C65051324%2C4851532317%2C118816810%2C295876766%2C1267667710512676864%2C30513693%2C2334732225%2C3227767206%2C827549356630929409%2C1877990904%2C17719869%2C34635522%2C464158760%2C1304110231%2C41018850%2C910689345669156864%2C1117528086%2C14227394%2C8217092%2C480122241%2C945718481646792704%2C42539727%2C30284449%2C566791381%2C43040748%2C2433737418%2C15756595%2C22682918%2C143612515%2C241007239%2C2870953361%2C963723824%2C10085872%2C977348811336007680%2C87755632%2C14239222%2C2685484890%2C1175681399929442305%2C17628900%2C27397561%2C508078401%2C2571984037%2C785919391%2C389629675%2C983194001397313536%2C2290950254%2C27777722%2C15738250%2C409710216%2C1292788718%2C93900504%2C20291015%2C94993905%2C780376451677884417%2C19424603%2C20813781%2C23455653%2C160977683%2C14748512%2C3005180361%2C16712082%2C293176762%2C295145828%2C456086951%2C1588841%2C14145823%2C940370169859321856%2C24574409%2C1046136380647067648%2C1073722495788830720%2C1022687364806782976%2C27819475%2C28436071%2C956391181%2C3318106141%2C559485977%2C508041167%2C291462147%2C3059537248%2C17101040%2C15347711%2C36670345%2C7756672%2C783837%2C316855289%2C34041217%2C2565569690%2C809233214%2C55645519%2C2313950822%2C999794802420989952%2C115730371%2C1208995453%2C71278096%2C20934583%2C1648615956%2C399452621%2C345401648%2C1656547188&oauth_signature=Lkpnsz8q%2Bj0Gy5YkfJ5lZKxOjR0%3D)\ndetails: {'errors': [{'message': 'Rate limit exceeded', 'code': 88}]}",
     "output_type": "error",
     "traceback": [
      "\u001b[1;31m---------------------------------------------------------------------------\u001b[0m",
      "\u001b[1;31mHTTPError\u001b[0m                                 Traceback (most recent call last)",
      "\u001b[1;32mC:\\ProgramData\\Miniconda3\\lib\\site-packages\\twitter\\api.py\u001b[0m in \u001b[0;36m_handle_response\u001b[1;34m(self, req, uri, arg_data, _timeout)\u001b[0m\n\u001b[0;32m    374\u001b[0m             \u001b[0mkwargs\u001b[0m\u001b[1;33m[\u001b[0m\u001b[1;34m'context'\u001b[0m\u001b[1;33m]\u001b[0m \u001b[1;33m=\u001b[0m \u001b[0mcontext\u001b[0m\u001b[1;33m\u001b[0m\u001b[1;33m\u001b[0m\u001b[0m\n\u001b[1;32m--> 375\u001b[1;33m             \u001b[0mhandle\u001b[0m \u001b[1;33m=\u001b[0m \u001b[0murllib_request\u001b[0m\u001b[1;33m.\u001b[0m\u001b[0murlopen\u001b[0m\u001b[1;33m(\u001b[0m\u001b[0mreq\u001b[0m\u001b[1;33m,\u001b[0m \u001b[1;33m**\u001b[0m\u001b[0mkwargs\u001b[0m\u001b[1;33m)\u001b[0m\u001b[1;33m\u001b[0m\u001b[1;33m\u001b[0m\u001b[0m\n\u001b[0m\u001b[0;32m    376\u001b[0m             \u001b[1;32mif\u001b[0m \u001b[0mhandle\u001b[0m\u001b[1;33m.\u001b[0m\u001b[0mheaders\u001b[0m\u001b[1;33m[\u001b[0m\u001b[1;34m'Content-Type'\u001b[0m\u001b[1;33m]\u001b[0m \u001b[1;32min\u001b[0m \u001b[1;33m[\u001b[0m\u001b[1;34m'image/jpeg'\u001b[0m\u001b[1;33m,\u001b[0m \u001b[1;34m'image/png'\u001b[0m\u001b[1;33m]\u001b[0m\u001b[1;33m:\u001b[0m\u001b[1;33m\u001b[0m\u001b[1;33m\u001b[0m\u001b[0m\n",
      "\u001b[1;32mC:\\ProgramData\\Miniconda3\\lib\\urllib\\request.py\u001b[0m in \u001b[0;36murlopen\u001b[1;34m(url, data, timeout, cafile, capath, cadefault, context)\u001b[0m\n\u001b[0;32m    213\u001b[0m         \u001b[0mopener\u001b[0m \u001b[1;33m=\u001b[0m \u001b[0m_opener\u001b[0m\u001b[1;33m\u001b[0m\u001b[1;33m\u001b[0m\u001b[0m\n\u001b[1;32m--> 214\u001b[1;33m     \u001b[1;32mreturn\u001b[0m \u001b[0mopener\u001b[0m\u001b[1;33m.\u001b[0m\u001b[0mopen\u001b[0m\u001b[1;33m(\u001b[0m\u001b[0murl\u001b[0m\u001b[1;33m,\u001b[0m \u001b[0mdata\u001b[0m\u001b[1;33m,\u001b[0m \u001b[0mtimeout\u001b[0m\u001b[1;33m)\u001b[0m\u001b[1;33m\u001b[0m\u001b[1;33m\u001b[0m\u001b[0m\n\u001b[0m\u001b[0;32m    215\u001b[0m \u001b[1;33m\u001b[0m\u001b[0m\n",
      "\u001b[1;32mC:\\ProgramData\\Miniconda3\\lib\\urllib\\request.py\u001b[0m in \u001b[0;36mopen\u001b[1;34m(self, fullurl, data, timeout)\u001b[0m\n\u001b[0;32m    522\u001b[0m             \u001b[0mmeth\u001b[0m \u001b[1;33m=\u001b[0m \u001b[0mgetattr\u001b[0m\u001b[1;33m(\u001b[0m\u001b[0mprocessor\u001b[0m\u001b[1;33m,\u001b[0m \u001b[0mmeth_name\u001b[0m\u001b[1;33m)\u001b[0m\u001b[1;33m\u001b[0m\u001b[1;33m\u001b[0m\u001b[0m\n\u001b[1;32m--> 523\u001b[1;33m             \u001b[0mresponse\u001b[0m \u001b[1;33m=\u001b[0m \u001b[0mmeth\u001b[0m\u001b[1;33m(\u001b[0m\u001b[0mreq\u001b[0m\u001b[1;33m,\u001b[0m \u001b[0mresponse\u001b[0m\u001b[1;33m)\u001b[0m\u001b[1;33m\u001b[0m\u001b[1;33m\u001b[0m\u001b[0m\n\u001b[0m\u001b[0;32m    524\u001b[0m \u001b[1;33m\u001b[0m\u001b[0m\n",
      "\u001b[1;32mC:\\ProgramData\\Miniconda3\\lib\\urllib\\request.py\u001b[0m in \u001b[0;36mhttp_response\u001b[1;34m(self, request, response)\u001b[0m\n\u001b[0;32m    631\u001b[0m         \u001b[1;32mif\u001b[0m \u001b[1;32mnot\u001b[0m \u001b[1;33m(\u001b[0m\u001b[1;36m200\u001b[0m \u001b[1;33m<=\u001b[0m \u001b[0mcode\u001b[0m \u001b[1;33m<\u001b[0m \u001b[1;36m300\u001b[0m\u001b[1;33m)\u001b[0m\u001b[1;33m:\u001b[0m\u001b[1;33m\u001b[0m\u001b[1;33m\u001b[0m\u001b[0m\n\u001b[1;32m--> 632\u001b[1;33m             response = self.parent.error(\n\u001b[0m\u001b[0;32m    633\u001b[0m                 'http', request, response, code, msg, hdrs)\n",
      "\u001b[1;32mC:\\ProgramData\\Miniconda3\\lib\\urllib\\request.py\u001b[0m in \u001b[0;36merror\u001b[1;34m(self, proto, *args)\u001b[0m\n\u001b[0;32m    560\u001b[0m             \u001b[0margs\u001b[0m \u001b[1;33m=\u001b[0m \u001b[1;33m(\u001b[0m\u001b[0mdict\u001b[0m\u001b[1;33m,\u001b[0m \u001b[1;34m'default'\u001b[0m\u001b[1;33m,\u001b[0m \u001b[1;34m'http_error_default'\u001b[0m\u001b[1;33m)\u001b[0m \u001b[1;33m+\u001b[0m \u001b[0morig_args\u001b[0m\u001b[1;33m\u001b[0m\u001b[1;33m\u001b[0m\u001b[0m\n\u001b[1;32m--> 561\u001b[1;33m             \u001b[1;32mreturn\u001b[0m \u001b[0mself\u001b[0m\u001b[1;33m.\u001b[0m\u001b[0m_call_chain\u001b[0m\u001b[1;33m(\u001b[0m\u001b[1;33m*\u001b[0m\u001b[0margs\u001b[0m\u001b[1;33m)\u001b[0m\u001b[1;33m\u001b[0m\u001b[1;33m\u001b[0m\u001b[0m\n\u001b[0m\u001b[0;32m    562\u001b[0m \u001b[1;33m\u001b[0m\u001b[0m\n",
      "\u001b[1;32mC:\\ProgramData\\Miniconda3\\lib\\urllib\\request.py\u001b[0m in \u001b[0;36m_call_chain\u001b[1;34m(self, chain, kind, meth_name, *args)\u001b[0m\n\u001b[0;32m    493\u001b[0m             \u001b[0mfunc\u001b[0m \u001b[1;33m=\u001b[0m \u001b[0mgetattr\u001b[0m\u001b[1;33m(\u001b[0m\u001b[0mhandler\u001b[0m\u001b[1;33m,\u001b[0m \u001b[0mmeth_name\u001b[0m\u001b[1;33m)\u001b[0m\u001b[1;33m\u001b[0m\u001b[1;33m\u001b[0m\u001b[0m\n\u001b[1;32m--> 494\u001b[1;33m             \u001b[0mresult\u001b[0m \u001b[1;33m=\u001b[0m \u001b[0mfunc\u001b[0m\u001b[1;33m(\u001b[0m\u001b[1;33m*\u001b[0m\u001b[0margs\u001b[0m\u001b[1;33m)\u001b[0m\u001b[1;33m\u001b[0m\u001b[1;33m\u001b[0m\u001b[0m\n\u001b[0m\u001b[0;32m    495\u001b[0m             \u001b[1;32mif\u001b[0m \u001b[0mresult\u001b[0m \u001b[1;32mis\u001b[0m \u001b[1;32mnot\u001b[0m \u001b[1;32mNone\u001b[0m\u001b[1;33m:\u001b[0m\u001b[1;33m\u001b[0m\u001b[1;33m\u001b[0m\u001b[0m\n",
      "\u001b[1;32mC:\\ProgramData\\Miniconda3\\lib\\urllib\\request.py\u001b[0m in \u001b[0;36mhttp_error_default\u001b[1;34m(self, req, fp, code, msg, hdrs)\u001b[0m\n\u001b[0;32m    640\u001b[0m     \u001b[1;32mdef\u001b[0m \u001b[0mhttp_error_default\u001b[0m\u001b[1;33m(\u001b[0m\u001b[0mself\u001b[0m\u001b[1;33m,\u001b[0m \u001b[0mreq\u001b[0m\u001b[1;33m,\u001b[0m \u001b[0mfp\u001b[0m\u001b[1;33m,\u001b[0m \u001b[0mcode\u001b[0m\u001b[1;33m,\u001b[0m \u001b[0mmsg\u001b[0m\u001b[1;33m,\u001b[0m \u001b[0mhdrs\u001b[0m\u001b[1;33m)\u001b[0m\u001b[1;33m:\u001b[0m\u001b[1;33m\u001b[0m\u001b[1;33m\u001b[0m\u001b[0m\n\u001b[1;32m--> 641\u001b[1;33m         \u001b[1;32mraise\u001b[0m \u001b[0mHTTPError\u001b[0m\u001b[1;33m(\u001b[0m\u001b[0mreq\u001b[0m\u001b[1;33m.\u001b[0m\u001b[0mfull_url\u001b[0m\u001b[1;33m,\u001b[0m \u001b[0mcode\u001b[0m\u001b[1;33m,\u001b[0m \u001b[0mmsg\u001b[0m\u001b[1;33m,\u001b[0m \u001b[0mhdrs\u001b[0m\u001b[1;33m,\u001b[0m \u001b[0mfp\u001b[0m\u001b[1;33m)\u001b[0m\u001b[1;33m\u001b[0m\u001b[1;33m\u001b[0m\u001b[0m\n\u001b[0m\u001b[0;32m    642\u001b[0m \u001b[1;33m\u001b[0m\u001b[0m\n",
      "\u001b[1;31mHTTPError\u001b[0m: HTTP Error 429: Too Many Requests",
      "\nDuring handling of the above exception, another exception occurred:\n",
      "\u001b[1;31mTwitterHTTPError\u001b[0m                          Traceback (most recent call last)",
      "\u001b[1;32m~\\AppData\\Local\\Temp/ipykernel_15572/2417975942.py\u001b[0m in \u001b[0;36m<module>\u001b[1;34m\u001b[0m\n\u001b[0;32m      2\u001b[0m     \u001b[1;32mtry\u001b[0m\u001b[1;33m:\u001b[0m\u001b[1;33m\u001b[0m\u001b[1;33m\u001b[0m\u001b[0m\n\u001b[1;32m----> 3\u001b[1;33m         \u001b[0mfof_lookup_l\u001b[0m \u001b[1;33m+=\u001b[0m \u001b[0mapi\u001b[0m\u001b[1;33m.\u001b[0m\u001b[0musers\u001b[0m\u001b[1;33m.\u001b[0m\u001b[0mlookup\u001b[0m\u001b[1;33m(\u001b[0m\u001b[0muser_id\u001b[0m\u001b[1;33m=\u001b[0m\u001b[1;34m','\u001b[0m\u001b[1;33m.\u001b[0m\u001b[0mjoin\u001b[0m\u001b[1;33m(\u001b[0m\u001b[0m_chunk\u001b[0m\u001b[1;33m)\u001b[0m\u001b[1;33m)\u001b[0m\u001b[1;33m\u001b[0m\u001b[1;33m\u001b[0m\u001b[0m\n\u001b[0m\u001b[0;32m      4\u001b[0m \u001b[1;33m\u001b[0m\u001b[0m\n",
      "\u001b[1;32mC:\\ProgramData\\Miniconda3\\lib\\site-packages\\twitter\\api.py\u001b[0m in \u001b[0;36m__call__\u001b[1;34m(self, **kwargs)\u001b[0m\n\u001b[0;32m    363\u001b[0m         \u001b[1;32melse\u001b[0m\u001b[1;33m:\u001b[0m\u001b[1;33m\u001b[0m\u001b[1;33m\u001b[0m\u001b[0m\n\u001b[1;32m--> 364\u001b[1;33m             \u001b[1;32mreturn\u001b[0m \u001b[0mself\u001b[0m\u001b[1;33m.\u001b[0m\u001b[0m_handle_response\u001b[0m\u001b[1;33m(\u001b[0m\u001b[0mreq\u001b[0m\u001b[1;33m,\u001b[0m \u001b[0muri\u001b[0m\u001b[1;33m,\u001b[0m \u001b[0marg_data\u001b[0m\u001b[1;33m,\u001b[0m \u001b[0m_timeout\u001b[0m\u001b[1;33m)\u001b[0m\u001b[1;33m\u001b[0m\u001b[1;33m\u001b[0m\u001b[0m\n\u001b[0m\u001b[0;32m    365\u001b[0m \u001b[1;33m\u001b[0m\u001b[0m\n",
      "\u001b[1;32mC:\\ProgramData\\Miniconda3\\lib\\site-packages\\twitter\\api.py\u001b[0m in \u001b[0;36m_handle_response\u001b[1;34m(self, req, uri, arg_data, _timeout)\u001b[0m\n\u001b[0;32m    405\u001b[0m             \u001b[1;32melse\u001b[0m\u001b[1;33m:\u001b[0m\u001b[1;33m\u001b[0m\u001b[1;33m\u001b[0m\u001b[0m\n\u001b[1;32m--> 406\u001b[1;33m                 \u001b[1;32mraise\u001b[0m \u001b[0mTwitterHTTPError\u001b[0m\u001b[1;33m(\u001b[0m\u001b[0me\u001b[0m\u001b[1;33m,\u001b[0m \u001b[0muri\u001b[0m\u001b[1;33m,\u001b[0m \u001b[0mself\u001b[0m\u001b[1;33m.\u001b[0m\u001b[0mformat\u001b[0m\u001b[1;33m,\u001b[0m \u001b[0marg_data\u001b[0m\u001b[1;33m)\u001b[0m\u001b[1;33m\u001b[0m\u001b[1;33m\u001b[0m\u001b[0m\n\u001b[0m\u001b[0;32m    407\u001b[0m \u001b[1;33m\u001b[0m\u001b[0m\n",
      "\u001b[1;31mTwitterHTTPError\u001b[0m: Twitter sent status 429 for URL: 1.1/users/lookup.json using parameters: (oauth_consumer_key=2sqhiRWws5u4UsI2ekwSIHvNl&oauth_nonce=2518654649303159374&oauth_signature_method=HMAC-SHA1&oauth_timestamp=1631547158&oauth_token=16629994-cCldrjyp2Z9Ke5ufXjxsKsh6uH6Sl3dqzFpRuRVEV&oauth_version=1.0&user_id=2905444113%2C65051324%2C4851532317%2C118816810%2C295876766%2C1267667710512676864%2C30513693%2C2334732225%2C3227767206%2C827549356630929409%2C1877990904%2C17719869%2C34635522%2C464158760%2C1304110231%2C41018850%2C910689345669156864%2C1117528086%2C14227394%2C8217092%2C480122241%2C945718481646792704%2C42539727%2C30284449%2C566791381%2C43040748%2C2433737418%2C15756595%2C22682918%2C143612515%2C241007239%2C2870953361%2C963723824%2C10085872%2C977348811336007680%2C87755632%2C14239222%2C2685484890%2C1175681399929442305%2C17628900%2C27397561%2C508078401%2C2571984037%2C785919391%2C389629675%2C983194001397313536%2C2290950254%2C27777722%2C15738250%2C409710216%2C1292788718%2C93900504%2C20291015%2C94993905%2C780376451677884417%2C19424603%2C20813781%2C23455653%2C160977683%2C14748512%2C3005180361%2C16712082%2C293176762%2C295145828%2C456086951%2C1588841%2C14145823%2C940370169859321856%2C24574409%2C1046136380647067648%2C1073722495788830720%2C1022687364806782976%2C27819475%2C28436071%2C956391181%2C3318106141%2C559485977%2C508041167%2C291462147%2C3059537248%2C17101040%2C15347711%2C36670345%2C7756672%2C783837%2C316855289%2C34041217%2C2565569690%2C809233214%2C55645519%2C2313950822%2C999794802420989952%2C115730371%2C1208995453%2C71278096%2C20934583%2C1648615956%2C399452621%2C345401648%2C1656547188&oauth_signature=kaJobByBjensryQoCy9Cwb8GnZM%3D)\ndetails: {'errors': [{'message': 'Rate limit exceeded', 'code': 88}]}",
      "\nDuring handling of the above exception, another exception occurred:\n",
      "\u001b[1;31mHTTPError\u001b[0m                                 Traceback (most recent call last)",
      "\u001b[1;32mC:\\ProgramData\\Miniconda3\\lib\\site-packages\\twitter\\api.py\u001b[0m in \u001b[0;36m_handle_response\u001b[1;34m(self, req, uri, arg_data, _timeout)\u001b[0m\n\u001b[0;32m    374\u001b[0m             \u001b[0mkwargs\u001b[0m\u001b[1;33m[\u001b[0m\u001b[1;34m'context'\u001b[0m\u001b[1;33m]\u001b[0m \u001b[1;33m=\u001b[0m \u001b[0mcontext\u001b[0m\u001b[1;33m\u001b[0m\u001b[1;33m\u001b[0m\u001b[0m\n\u001b[1;32m--> 375\u001b[1;33m             \u001b[0mhandle\u001b[0m \u001b[1;33m=\u001b[0m \u001b[0murllib_request\u001b[0m\u001b[1;33m.\u001b[0m\u001b[0murlopen\u001b[0m\u001b[1;33m(\u001b[0m\u001b[0mreq\u001b[0m\u001b[1;33m,\u001b[0m \u001b[1;33m**\u001b[0m\u001b[0mkwargs\u001b[0m\u001b[1;33m)\u001b[0m\u001b[1;33m\u001b[0m\u001b[1;33m\u001b[0m\u001b[0m\n\u001b[0m\u001b[0;32m    376\u001b[0m             \u001b[1;32mif\u001b[0m \u001b[0mhandle\u001b[0m\u001b[1;33m.\u001b[0m\u001b[0mheaders\u001b[0m\u001b[1;33m[\u001b[0m\u001b[1;34m'Content-Type'\u001b[0m\u001b[1;33m]\u001b[0m \u001b[1;32min\u001b[0m \u001b[1;33m[\u001b[0m\u001b[1;34m'image/jpeg'\u001b[0m\u001b[1;33m,\u001b[0m \u001b[1;34m'image/png'\u001b[0m\u001b[1;33m]\u001b[0m\u001b[1;33m:\u001b[0m\u001b[1;33m\u001b[0m\u001b[1;33m\u001b[0m\u001b[0m\n",
      "\u001b[1;32mC:\\ProgramData\\Miniconda3\\lib\\urllib\\request.py\u001b[0m in \u001b[0;36murlopen\u001b[1;34m(url, data, timeout, cafile, capath, cadefault, context)\u001b[0m\n\u001b[0;32m    213\u001b[0m         \u001b[0mopener\u001b[0m \u001b[1;33m=\u001b[0m \u001b[0m_opener\u001b[0m\u001b[1;33m\u001b[0m\u001b[1;33m\u001b[0m\u001b[0m\n\u001b[1;32m--> 214\u001b[1;33m     \u001b[1;32mreturn\u001b[0m \u001b[0mopener\u001b[0m\u001b[1;33m.\u001b[0m\u001b[0mopen\u001b[0m\u001b[1;33m(\u001b[0m\u001b[0murl\u001b[0m\u001b[1;33m,\u001b[0m \u001b[0mdata\u001b[0m\u001b[1;33m,\u001b[0m \u001b[0mtimeout\u001b[0m\u001b[1;33m)\u001b[0m\u001b[1;33m\u001b[0m\u001b[1;33m\u001b[0m\u001b[0m\n\u001b[0m\u001b[0;32m    215\u001b[0m \u001b[1;33m\u001b[0m\u001b[0m\n",
      "\u001b[1;32mC:\\ProgramData\\Miniconda3\\lib\\urllib\\request.py\u001b[0m in \u001b[0;36mopen\u001b[1;34m(self, fullurl, data, timeout)\u001b[0m\n\u001b[0;32m    522\u001b[0m             \u001b[0mmeth\u001b[0m \u001b[1;33m=\u001b[0m \u001b[0mgetattr\u001b[0m\u001b[1;33m(\u001b[0m\u001b[0mprocessor\u001b[0m\u001b[1;33m,\u001b[0m \u001b[0mmeth_name\u001b[0m\u001b[1;33m)\u001b[0m\u001b[1;33m\u001b[0m\u001b[1;33m\u001b[0m\u001b[0m\n\u001b[1;32m--> 523\u001b[1;33m             \u001b[0mresponse\u001b[0m \u001b[1;33m=\u001b[0m \u001b[0mmeth\u001b[0m\u001b[1;33m(\u001b[0m\u001b[0mreq\u001b[0m\u001b[1;33m,\u001b[0m \u001b[0mresponse\u001b[0m\u001b[1;33m)\u001b[0m\u001b[1;33m\u001b[0m\u001b[1;33m\u001b[0m\u001b[0m\n\u001b[0m\u001b[0;32m    524\u001b[0m \u001b[1;33m\u001b[0m\u001b[0m\n",
      "\u001b[1;32mC:\\ProgramData\\Miniconda3\\lib\\urllib\\request.py\u001b[0m in \u001b[0;36mhttp_response\u001b[1;34m(self, request, response)\u001b[0m\n\u001b[0;32m    631\u001b[0m         \u001b[1;32mif\u001b[0m \u001b[1;32mnot\u001b[0m \u001b[1;33m(\u001b[0m\u001b[1;36m200\u001b[0m \u001b[1;33m<=\u001b[0m \u001b[0mcode\u001b[0m \u001b[1;33m<\u001b[0m \u001b[1;36m300\u001b[0m\u001b[1;33m)\u001b[0m\u001b[1;33m:\u001b[0m\u001b[1;33m\u001b[0m\u001b[1;33m\u001b[0m\u001b[0m\n\u001b[1;32m--> 632\u001b[1;33m             response = self.parent.error(\n\u001b[0m\u001b[0;32m    633\u001b[0m                 'http', request, response, code, msg, hdrs)\n",
      "\u001b[1;32mC:\\ProgramData\\Miniconda3\\lib\\urllib\\request.py\u001b[0m in \u001b[0;36merror\u001b[1;34m(self, proto, *args)\u001b[0m\n\u001b[0;32m    560\u001b[0m             \u001b[0margs\u001b[0m \u001b[1;33m=\u001b[0m \u001b[1;33m(\u001b[0m\u001b[0mdict\u001b[0m\u001b[1;33m,\u001b[0m \u001b[1;34m'default'\u001b[0m\u001b[1;33m,\u001b[0m \u001b[1;34m'http_error_default'\u001b[0m\u001b[1;33m)\u001b[0m \u001b[1;33m+\u001b[0m \u001b[0morig_args\u001b[0m\u001b[1;33m\u001b[0m\u001b[1;33m\u001b[0m\u001b[0m\n\u001b[1;32m--> 561\u001b[1;33m             \u001b[1;32mreturn\u001b[0m \u001b[0mself\u001b[0m\u001b[1;33m.\u001b[0m\u001b[0m_call_chain\u001b[0m\u001b[1;33m(\u001b[0m\u001b[1;33m*\u001b[0m\u001b[0margs\u001b[0m\u001b[1;33m)\u001b[0m\u001b[1;33m\u001b[0m\u001b[1;33m\u001b[0m\u001b[0m\n\u001b[0m\u001b[0;32m    562\u001b[0m \u001b[1;33m\u001b[0m\u001b[0m\n",
      "\u001b[1;32mC:\\ProgramData\\Miniconda3\\lib\\urllib\\request.py\u001b[0m in \u001b[0;36m_call_chain\u001b[1;34m(self, chain, kind, meth_name, *args)\u001b[0m\n\u001b[0;32m    493\u001b[0m             \u001b[0mfunc\u001b[0m \u001b[1;33m=\u001b[0m \u001b[0mgetattr\u001b[0m\u001b[1;33m(\u001b[0m\u001b[0mhandler\u001b[0m\u001b[1;33m,\u001b[0m \u001b[0mmeth_name\u001b[0m\u001b[1;33m)\u001b[0m\u001b[1;33m\u001b[0m\u001b[1;33m\u001b[0m\u001b[0m\n\u001b[1;32m--> 494\u001b[1;33m             \u001b[0mresult\u001b[0m \u001b[1;33m=\u001b[0m \u001b[0mfunc\u001b[0m\u001b[1;33m(\u001b[0m\u001b[1;33m*\u001b[0m\u001b[0margs\u001b[0m\u001b[1;33m)\u001b[0m\u001b[1;33m\u001b[0m\u001b[1;33m\u001b[0m\u001b[0m\n\u001b[0m\u001b[0;32m    495\u001b[0m             \u001b[1;32mif\u001b[0m \u001b[0mresult\u001b[0m \u001b[1;32mis\u001b[0m \u001b[1;32mnot\u001b[0m \u001b[1;32mNone\u001b[0m\u001b[1;33m:\u001b[0m\u001b[1;33m\u001b[0m\u001b[1;33m\u001b[0m\u001b[0m\n",
      "\u001b[1;32mC:\\ProgramData\\Miniconda3\\lib\\urllib\\request.py\u001b[0m in \u001b[0;36mhttp_error_default\u001b[1;34m(self, req, fp, code, msg, hdrs)\u001b[0m\n\u001b[0;32m    640\u001b[0m     \u001b[1;32mdef\u001b[0m \u001b[0mhttp_error_default\u001b[0m\u001b[1;33m(\u001b[0m\u001b[0mself\u001b[0m\u001b[1;33m,\u001b[0m \u001b[0mreq\u001b[0m\u001b[1;33m,\u001b[0m \u001b[0mfp\u001b[0m\u001b[1;33m,\u001b[0m \u001b[0mcode\u001b[0m\u001b[1;33m,\u001b[0m \u001b[0mmsg\u001b[0m\u001b[1;33m,\u001b[0m \u001b[0mhdrs\u001b[0m\u001b[1;33m)\u001b[0m\u001b[1;33m:\u001b[0m\u001b[1;33m\u001b[0m\u001b[1;33m\u001b[0m\u001b[0m\n\u001b[1;32m--> 641\u001b[1;33m         \u001b[1;32mraise\u001b[0m \u001b[0mHTTPError\u001b[0m\u001b[1;33m(\u001b[0m\u001b[0mreq\u001b[0m\u001b[1;33m.\u001b[0m\u001b[0mfull_url\u001b[0m\u001b[1;33m,\u001b[0m \u001b[0mcode\u001b[0m\u001b[1;33m,\u001b[0m \u001b[0mmsg\u001b[0m\u001b[1;33m,\u001b[0m \u001b[0mhdrs\u001b[0m\u001b[1;33m,\u001b[0m \u001b[0mfp\u001b[0m\u001b[1;33m)\u001b[0m\u001b[1;33m\u001b[0m\u001b[1;33m\u001b[0m\u001b[0m\n\u001b[0m\u001b[0;32m    642\u001b[0m \u001b[1;33m\u001b[0m\u001b[0m\n",
      "\u001b[1;31mHTTPError\u001b[0m: HTTP Error 429: Too Many Requests",
      "\nDuring handling of the above exception, another exception occurred:\n",
      "\u001b[1;31mTwitterHTTPError\u001b[0m                          Traceback (most recent call last)",
      "\u001b[1;32m~\\AppData\\Local\\Temp/ipykernel_15572/2417975942.py\u001b[0m in \u001b[0;36m<module>\u001b[1;34m\u001b[0m\n\u001b[0;32m     19\u001b[0m \u001b[1;33m\u001b[0m\u001b[0m\n\u001b[0;32m     20\u001b[0m         \u001b[1;31m# Try to get the friend ID again\u001b[0m\u001b[1;33m\u001b[0m\u001b[1;33m\u001b[0m\u001b[1;33m\u001b[0m\u001b[0m\n\u001b[1;32m---> 21\u001b[1;33m         \u001b[0mfof_lookup_l\u001b[0m \u001b[1;33m+=\u001b[0m \u001b[0mapi\u001b[0m\u001b[1;33m.\u001b[0m\u001b[0musers\u001b[0m\u001b[1;33m.\u001b[0m\u001b[0mlookup\u001b[0m\u001b[1;33m(\u001b[0m\u001b[0muser_id\u001b[0m\u001b[1;33m=\u001b[0m\u001b[1;34m','\u001b[0m\u001b[1;33m.\u001b[0m\u001b[0mjoin\u001b[0m\u001b[1;33m(\u001b[0m\u001b[0m_chunk\u001b[0m\u001b[1;33m)\u001b[0m\u001b[1;33m)\u001b[0m\u001b[1;33m\u001b[0m\u001b[1;33m\u001b[0m\u001b[0m\n\u001b[0m\u001b[0;32m     22\u001b[0m \u001b[1;33m\u001b[0m\u001b[0m\n\u001b[0;32m     23\u001b[0m     \u001b[1;32mexcept\u001b[0m \u001b[0mKeyboardInterrupt\u001b[0m\u001b[1;33m:\u001b[0m\u001b[1;33m\u001b[0m\u001b[1;33m\u001b[0m\u001b[0m\n",
      "\u001b[1;32mC:\\ProgramData\\Miniconda3\\lib\\site-packages\\twitter\\api.py\u001b[0m in \u001b[0;36m__call__\u001b[1;34m(self, **kwargs)\u001b[0m\n\u001b[0;32m    362\u001b[0m             \u001b[1;32mreturn\u001b[0m \u001b[0mself\u001b[0m\u001b[1;33m.\u001b[0m\u001b[0m_handle_response_with_retry\u001b[0m\u001b[1;33m(\u001b[0m\u001b[0mreq\u001b[0m\u001b[1;33m,\u001b[0m \u001b[0muri\u001b[0m\u001b[1;33m,\u001b[0m \u001b[0marg_data\u001b[0m\u001b[1;33m,\u001b[0m \u001b[0m_timeout\u001b[0m\u001b[1;33m)\u001b[0m\u001b[1;33m\u001b[0m\u001b[1;33m\u001b[0m\u001b[0m\n\u001b[0;32m    363\u001b[0m         \u001b[1;32melse\u001b[0m\u001b[1;33m:\u001b[0m\u001b[1;33m\u001b[0m\u001b[1;33m\u001b[0m\u001b[0m\n\u001b[1;32m--> 364\u001b[1;33m             \u001b[1;32mreturn\u001b[0m \u001b[0mself\u001b[0m\u001b[1;33m.\u001b[0m\u001b[0m_handle_response\u001b[0m\u001b[1;33m(\u001b[0m\u001b[0mreq\u001b[0m\u001b[1;33m,\u001b[0m \u001b[0muri\u001b[0m\u001b[1;33m,\u001b[0m \u001b[0marg_data\u001b[0m\u001b[1;33m,\u001b[0m \u001b[0m_timeout\u001b[0m\u001b[1;33m)\u001b[0m\u001b[1;33m\u001b[0m\u001b[1;33m\u001b[0m\u001b[0m\n\u001b[0m\u001b[0;32m    365\u001b[0m \u001b[1;33m\u001b[0m\u001b[0m\n\u001b[0;32m    366\u001b[0m     \u001b[1;32mdef\u001b[0m \u001b[0m_handle_response\u001b[0m\u001b[1;33m(\u001b[0m\u001b[0mself\u001b[0m\u001b[1;33m,\u001b[0m \u001b[0mreq\u001b[0m\u001b[1;33m,\u001b[0m \u001b[0muri\u001b[0m\u001b[1;33m,\u001b[0m \u001b[0marg_data\u001b[0m\u001b[1;33m,\u001b[0m \u001b[0m_timeout\u001b[0m\u001b[1;33m=\u001b[0m\u001b[1;32mNone\u001b[0m\u001b[1;33m)\u001b[0m\u001b[1;33m:\u001b[0m\u001b[1;33m\u001b[0m\u001b[1;33m\u001b[0m\u001b[0m\n",
      "\u001b[1;32mC:\\ProgramData\\Miniconda3\\lib\\site-packages\\twitter\\api.py\u001b[0m in \u001b[0;36m_handle_response\u001b[1;34m(self, req, uri, arg_data, _timeout)\u001b[0m\n\u001b[0;32m    404\u001b[0m                 \u001b[1;32mreturn\u001b[0m \u001b[1;33m[\u001b[0m\u001b[1;33m]\u001b[0m\u001b[1;33m\u001b[0m\u001b[1;33m\u001b[0m\u001b[0m\n\u001b[0;32m    405\u001b[0m             \u001b[1;32melse\u001b[0m\u001b[1;33m:\u001b[0m\u001b[1;33m\u001b[0m\u001b[1;33m\u001b[0m\u001b[0m\n\u001b[1;32m--> 406\u001b[1;33m                 \u001b[1;32mraise\u001b[0m \u001b[0mTwitterHTTPError\u001b[0m\u001b[1;33m(\u001b[0m\u001b[0me\u001b[0m\u001b[1;33m,\u001b[0m \u001b[0muri\u001b[0m\u001b[1;33m,\u001b[0m \u001b[0mself\u001b[0m\u001b[1;33m.\u001b[0m\u001b[0mformat\u001b[0m\u001b[1;33m,\u001b[0m \u001b[0marg_data\u001b[0m\u001b[1;33m)\u001b[0m\u001b[1;33m\u001b[0m\u001b[1;33m\u001b[0m\u001b[0m\n\u001b[0m\u001b[0;32m    407\u001b[0m \u001b[1;33m\u001b[0m\u001b[0m\n\u001b[0;32m    408\u001b[0m     \u001b[1;32mdef\u001b[0m \u001b[0m_handle_response_with_retry\u001b[0m\u001b[1;33m(\u001b[0m\u001b[0mself\u001b[0m\u001b[1;33m,\u001b[0m \u001b[0mreq\u001b[0m\u001b[1;33m,\u001b[0m \u001b[0muri\u001b[0m\u001b[1;33m,\u001b[0m \u001b[0marg_data\u001b[0m\u001b[1;33m,\u001b[0m \u001b[0m_timeout\u001b[0m\u001b[1;33m=\u001b[0m\u001b[1;32mNone\u001b[0m\u001b[1;33m)\u001b[0m\u001b[1;33m:\u001b[0m\u001b[1;33m\u001b[0m\u001b[1;33m\u001b[0m\u001b[0m\n",
      "\u001b[1;31mTwitterHTTPError\u001b[0m: Twitter sent status 429 for URL: 1.1/users/lookup.json using parameters: (oauth_consumer_key=2sqhiRWws5u4UsI2ekwSIHvNl&oauth_nonce=7223411657708000767&oauth_signature_method=HMAC-SHA1&oauth_timestamp=1631547264&oauth_token=16629994-cCldrjyp2Z9Ke5ufXjxsKsh6uH6Sl3dqzFpRuRVEV&oauth_version=1.0&user_id=2905444113%2C65051324%2C4851532317%2C118816810%2C295876766%2C1267667710512676864%2C30513693%2C2334732225%2C3227767206%2C827549356630929409%2C1877990904%2C17719869%2C34635522%2C464158760%2C1304110231%2C41018850%2C910689345669156864%2C1117528086%2C14227394%2C8217092%2C480122241%2C945718481646792704%2C42539727%2C30284449%2C566791381%2C43040748%2C2433737418%2C15756595%2C22682918%2C143612515%2C241007239%2C2870953361%2C963723824%2C10085872%2C977348811336007680%2C87755632%2C14239222%2C2685484890%2C1175681399929442305%2C17628900%2C27397561%2C508078401%2C2571984037%2C785919391%2C389629675%2C983194001397313536%2C2290950254%2C27777722%2C15738250%2C409710216%2C1292788718%2C93900504%2C20291015%2C94993905%2C780376451677884417%2C19424603%2C20813781%2C23455653%2C160977683%2C14748512%2C3005180361%2C16712082%2C293176762%2C295145828%2C456086951%2C1588841%2C14145823%2C940370169859321856%2C24574409%2C1046136380647067648%2C1073722495788830720%2C1022687364806782976%2C27819475%2C28436071%2C956391181%2C3318106141%2C559485977%2C508041167%2C291462147%2C3059537248%2C17101040%2C15347711%2C36670345%2C7756672%2C783837%2C316855289%2C34041217%2C2565569690%2C809233214%2C55645519%2C2313950822%2C999794802420989952%2C115730371%2C1208995453%2C71278096%2C20934583%2C1648615956%2C399452621%2C345401648%2C1656547188&oauth_signature=Lkpnsz8q%2Bj0Gy5YkfJ5lZKxOjR0%3D)\ndetails: {'errors': [{'message': 'Rate limit exceeded', 'code': 88}]}"
     ]
    }
   ],
   "source": [
    "for _chunk in chunks(fof_ids_counts_gt2,n=100):\n",
    "    try:\n",
    "        fof_lookup_l += api.users.lookup(user_id=','.join(_chunk))\n",
    "        \n",
    "    # If you get a TwitterError, assume its a rate limit problem\n",
    "    except twitter.TwitterError:\n",
    "\n",
    "        # Get the current rate limit status\n",
    "        reset_time = api.application.rate_limit_status()['resources']['users']['/users/lookup']['reset']\n",
    "\n",
    "        # Wait until the API limit refreshed and add a second for good measure\n",
    "        sleep_time = (datetime.fromtimestamp(reset_time) - datetime.now())/timedelta(seconds=1) + 1\n",
    "\n",
    "        # Print out to make sure\n",
    "        print(\"At {0.year}-{0.month:02d}-{0.day:02d} {0.hour:02d}:{0.minute:02d}:{0.second:02d}, sleeping for {1:3.0f} seconds.\".format(datetime.now(),sleep_time))\n",
    "\n",
    "        # Sleep until our API limit refreshes\n",
    "        time.sleep(sleep_time)\n",
    "\n",
    "        # Try to get the friend ID again\n",
    "        fof_lookup_l += api.users.lookup(user_id=','.join(_chunk))\n",
    "        \n",
    "    except KeyboardInterrupt:\n",
    "        break\n",
    "        \n",
    "    except:\n",
    "        fof_lookup_d_errors.append(_id_list)\n",
    "        pass"
   ]
  },
  {
   "cell_type": "code",
   "execution_count": 253,
   "id": "644c6c11",
   "metadata": {},
   "outputs": [
    {
     "data": {
      "text/plain": [
       "89384"
      ]
     },
     "execution_count": 253,
     "metadata": {},
     "output_type": "execute_result"
    }
   ],
   "source": [
    "len(fof_lookup_l)"
   ]
  },
  {
   "cell_type": "code",
   "execution_count": 256,
   "id": "579626a1",
   "metadata": {},
   "outputs": [],
   "source": [
    "for _chunk in chunks(fof_ids_counts_gt2[89384:],n=100):\n",
    "    try:\n",
    "        fof_lookup_l += api.users.lookup(user_id=','.join(_chunk))\n",
    "        \n",
    "    # If you get a TwitterError, assume its a rate limit problem\n",
    "    except twitter.TwitterError:\n",
    "\n",
    "        # Get the current rate limit status\n",
    "        reset_time = api.application.rate_limit_status()['resources']['users']['/users/lookup']['reset']\n",
    "\n",
    "        # Wait until the API limit refreshed and add a second for good measure\n",
    "        sleep_time = (datetime.fromtimestamp(reset_time) - datetime.now())/timedelta(seconds=1) + 1\n",
    "\n",
    "        # Print out to make sure\n",
    "        print(\"At {0.year}-{0.month:02d}-{0.day:02d} {0.hour:02d}:{0.minute:02d}:{0.second:02d}, sleeping for {1:3.0f} seconds.\".format(datetime.now(),sleep_time))\n",
    "\n",
    "        # Sleep until our API limit refreshes\n",
    "        time.sleep(sleep_time)\n",
    "\n",
    "        # Try to get the friend ID again\n",
    "        fof_lookup_l += api.users.lookup(user_id=','.join(_chunk))\n",
    "        \n",
    "    except KeyboardInterrupt:\n",
    "        break\n",
    "        \n",
    "    except:\n",
    "        fof_lookup_d_errors.append(_id_list)\n",
    "        pass"
   ]
  },
  {
   "cell_type": "code",
   "execution_count": 364,
   "id": "1cddc8a1",
   "metadata": {},
   "outputs": [
    {
     "name": "stdout",
     "output_type": "stream",
     "text": [
      "116931\n"
     ]
    },
    {
     "data": {
      "text/html": [
       "<div>\n",
       "<style scoped>\n",
       "    .dataframe tbody tr th:only-of-type {\n",
       "        vertical-align: middle;\n",
       "    }\n",
       "\n",
       "    .dataframe tbody tr th {\n",
       "        vertical-align: top;\n",
       "    }\n",
       "\n",
       "    .dataframe thead th {\n",
       "        text-align: right;\n",
       "    }\n",
       "</style>\n",
       "<table border=\"1\" class=\"dataframe\">\n",
       "  <thead>\n",
       "    <tr style=\"text-align: right;\">\n",
       "      <th></th>\n",
       "      <th>id</th>\n",
       "      <th>name</th>\n",
       "      <th>screen_name</th>\n",
       "      <th>location</th>\n",
       "      <th>description</th>\n",
       "      <th>protected</th>\n",
       "      <th>followers_count</th>\n",
       "      <th>friends_count</th>\n",
       "      <th>created_at</th>\n",
       "      <th>favourites_count</th>\n",
       "      <th>verified</th>\n",
       "      <th>statuses_count</th>\n",
       "      <th>suspended</th>\n",
       "    </tr>\n",
       "  </thead>\n",
       "  <tbody>\n",
       "    <tr>\n",
       "      <th>0</th>\n",
       "      <td>1857870864</td>\n",
       "      <td>Aaron Brockett</td>\n",
       "      <td>AaronBrockett12</td>\n",
       "      <td>Boulder, CO</td>\n",
       "      <td>Parent, spouse, software developer. Member of ...</td>\n",
       "      <td>False</td>\n",
       "      <td>2235</td>\n",
       "      <td>1464</td>\n",
       "      <td>Thu Sep 12 16:43:01 +0000 2013</td>\n",
       "      <td>44325</td>\n",
       "      <td>False</td>\n",
       "      <td>7289</td>\n",
       "      <td>NaN</td>\n",
       "    </tr>\n",
       "    <tr>\n",
       "      <th>1</th>\n",
       "      <td>14504258</td>\n",
       "      <td>Daily Camera</td>\n",
       "      <td>dailycamera</td>\n",
       "      <td>Boulder, Colo.</td>\n",
       "      <td>The Daily Camera newspaper in Boulder, Colo., ...</td>\n",
       "      <td>False</td>\n",
       "      <td>95167</td>\n",
       "      <td>1207</td>\n",
       "      <td>Thu Apr 24 01:16:03 +0000 2008</td>\n",
       "      <td>353</td>\n",
       "      <td>True</td>\n",
       "      <td>95586</td>\n",
       "      <td>NaN</td>\n",
       "    </tr>\n",
       "    <tr>\n",
       "      <th>2</th>\n",
       "      <td>43194865</td>\n",
       "      <td>Eric Budd</td>\n",
       "      <td>ericmbudd</td>\n",
       "      <td>Boulder, Colorado</td>\n",
       "      <td>the econ side of everything. board/team @bould...</td>\n",
       "      <td>False</td>\n",
       "      <td>7363</td>\n",
       "      <td>10000</td>\n",
       "      <td>Thu May 28 20:57:54 +0000 2009</td>\n",
       "      <td>382651</td>\n",
       "      <td>True</td>\n",
       "      <td>124047</td>\n",
       "      <td>NaN</td>\n",
       "    </tr>\n",
       "    <tr>\n",
       "      <th>3</th>\n",
       "      <td>117004374</td>\n",
       "      <td>Mitchell Byars</td>\n",
       "      <td>mitchellbyars</td>\n",
       "      <td>Boulder, CO via Kona, Hawaii</td>\n",
       "      <td>Crime and breaking news/social media/web @dail...</td>\n",
       "      <td>False</td>\n",
       "      <td>22905</td>\n",
       "      <td>16357</td>\n",
       "      <td>Wed Feb 24 07:00:45 +0000 2010</td>\n",
       "      <td>5249</td>\n",
       "      <td>True</td>\n",
       "      <td>50919</td>\n",
       "      <td>NaN</td>\n",
       "    </tr>\n",
       "    <tr>\n",
       "      <th>4</th>\n",
       "      <td>16666502</td>\n",
       "      <td>City of Boulder</td>\n",
       "      <td>bouldercolorado</td>\n",
       "      <td>Boulder, Colorado</td>\n",
       "      <td>The City of Boulder municipal government has s...</td>\n",
       "      <td>False</td>\n",
       "      <td>91188</td>\n",
       "      <td>308</td>\n",
       "      <td>Thu Oct 09 14:08:38 +0000 2008</td>\n",
       "      <td>4173</td>\n",
       "      <td>True</td>\n",
       "      <td>19911</td>\n",
       "      <td>NaN</td>\n",
       "    </tr>\n",
       "  </tbody>\n",
       "</table>\n",
       "</div>"
      ],
      "text/plain": [
       "           id             name      screen_name                      location  \\\n",
       "0  1857870864   Aaron Brockett  AaronBrockett12                   Boulder, CO   \n",
       "1    14504258     Daily Camera      dailycamera                Boulder, Colo.   \n",
       "2    43194865        Eric Budd        ericmbudd             Boulder, Colorado   \n",
       "3   117004374   Mitchell Byars    mitchellbyars  Boulder, CO via Kona, Hawaii   \n",
       "4    16666502  City of Boulder  bouldercolorado             Boulder, Colorado   \n",
       "\n",
       "                                         description  protected  \\\n",
       "0  Parent, spouse, software developer. Member of ...      False   \n",
       "1  The Daily Camera newspaper in Boulder, Colo., ...      False   \n",
       "2  the econ side of everything. board/team @bould...      False   \n",
       "3  Crime and breaking news/social media/web @dail...      False   \n",
       "4  The City of Boulder municipal government has s...      False   \n",
       "\n",
       "   followers_count  friends_count                      created_at  \\\n",
       "0             2235           1464  Thu Sep 12 16:43:01 +0000 2013   \n",
       "1            95167           1207  Thu Apr 24 01:16:03 +0000 2008   \n",
       "2             7363          10000  Thu May 28 20:57:54 +0000 2009   \n",
       "3            22905          16357  Wed Feb 24 07:00:45 +0000 2010   \n",
       "4            91188            308  Thu Oct 09 14:08:38 +0000 2008   \n",
       "\n",
       "   favourites_count  verified  statuses_count suspended  \n",
       "0             44325     False            7289       NaN  \n",
       "1               353      True           95586       NaN  \n",
       "2            382651      True          124047       NaN  \n",
       "3              5249      True           50919       NaN  \n",
       "4              4173      True           19911       NaN  "
      ]
     },
     "execution_count": 364,
     "metadata": {},
     "output_type": "execute_result"
    }
   ],
   "source": [
    "fof_lookup_df = pd.DataFrame(fof_lookup_l).drop_duplicates(subset=['id'])\n",
    "\n",
    "fof_lookup_df = fof_lookup_df[['id','name','screen_name','location','description','protected','followers_count',\n",
    "                               'friends_count','created_at','favourites_count','verified','statuses_count','suspended']]\n",
    "\n",
    "fof_lookup_df['id'] = fof_lookup_df['id'].astype(str)\n",
    "\n",
    "print(len(fof_lookup_df))\n",
    "\n",
    "fof_lookup_df.to_csv('friend_of_friend_lookup.csv',index=False)\n",
    "\n",
    "fof_lookup_df.head()"
   ]
  },
  {
   "cell_type": "markdown",
   "id": "02e7a658",
   "metadata": {},
   "source": [
    "## Make a network"
   ]
  },
  {
   "cell_type": "code",
   "execution_count": 54,
   "id": "e282da02",
   "metadata": {},
   "outputs": [
    {
     "name": "stdout",
     "output_type": "stream",
     "text": [
      "116931\n"
     ]
    },
    {
     "name": "stderr",
     "output_type": "stream",
     "text": [
      "C:\\ProgramData\\Miniconda3\\lib\\site-packages\\IPython\\core\\interactiveshell.py:3441: DtypeWarning: Columns (12) have mixed types.Specify dtype option on import or set low_memory=False.\n",
      "  exec(code_obj, self.user_global_ns, self.user_ns)\n"
     ]
    },
    {
     "data": {
      "text/html": [
       "<div>\n",
       "<style scoped>\n",
       "    .dataframe tbody tr th:only-of-type {\n",
       "        vertical-align: middle;\n",
       "    }\n",
       "\n",
       "    .dataframe tbody tr th {\n",
       "        vertical-align: top;\n",
       "    }\n",
       "\n",
       "    .dataframe thead th {\n",
       "        text-align: right;\n",
       "    }\n",
       "</style>\n",
       "<table border=\"1\" class=\"dataframe\">\n",
       "  <thead>\n",
       "    <tr style=\"text-align: right;\">\n",
       "      <th></th>\n",
       "      <th>id</th>\n",
       "      <th>name</th>\n",
       "      <th>screen_name</th>\n",
       "      <th>location</th>\n",
       "      <th>description</th>\n",
       "      <th>protected</th>\n",
       "      <th>followers_count</th>\n",
       "      <th>friends_count</th>\n",
       "      <th>created_at</th>\n",
       "      <th>favourites_count</th>\n",
       "      <th>verified</th>\n",
       "      <th>statuses_count</th>\n",
       "      <th>suspended</th>\n",
       "    </tr>\n",
       "  </thead>\n",
       "  <tbody>\n",
       "    <tr>\n",
       "      <th>0</th>\n",
       "      <td>1857870864</td>\n",
       "      <td>Aaron Brockett</td>\n",
       "      <td>AaronBrockett12</td>\n",
       "      <td>Boulder, CO</td>\n",
       "      <td>Parent, spouse, software developer. Member of ...</td>\n",
       "      <td>False</td>\n",
       "      <td>2235</td>\n",
       "      <td>1464</td>\n",
       "      <td>Thu Sep 12 16:43:01 +0000 2013</td>\n",
       "      <td>44325</td>\n",
       "      <td>False</td>\n",
       "      <td>7289</td>\n",
       "      <td>NaN</td>\n",
       "    </tr>\n",
       "    <tr>\n",
       "      <th>1</th>\n",
       "      <td>14504258</td>\n",
       "      <td>Daily Camera</td>\n",
       "      <td>dailycamera</td>\n",
       "      <td>Boulder, Colo.</td>\n",
       "      <td>The Daily Camera newspaper in Boulder, Colo., ...</td>\n",
       "      <td>False</td>\n",
       "      <td>95167</td>\n",
       "      <td>1207</td>\n",
       "      <td>Thu Apr 24 01:16:03 +0000 2008</td>\n",
       "      <td>353</td>\n",
       "      <td>True</td>\n",
       "      <td>95586</td>\n",
       "      <td>NaN</td>\n",
       "    </tr>\n",
       "    <tr>\n",
       "      <th>2</th>\n",
       "      <td>43194865</td>\n",
       "      <td>Eric Budd</td>\n",
       "      <td>ericmbudd</td>\n",
       "      <td>Boulder, Colorado</td>\n",
       "      <td>the econ side of everything. board/team @bould...</td>\n",
       "      <td>False</td>\n",
       "      <td>7363</td>\n",
       "      <td>10000</td>\n",
       "      <td>Thu May 28 20:57:54 +0000 2009</td>\n",
       "      <td>382651</td>\n",
       "      <td>True</td>\n",
       "      <td>124047</td>\n",
       "      <td>NaN</td>\n",
       "    </tr>\n",
       "    <tr>\n",
       "      <th>3</th>\n",
       "      <td>117004374</td>\n",
       "      <td>Mitchell Byars</td>\n",
       "      <td>mitchellbyars</td>\n",
       "      <td>Boulder, CO via Kona, Hawaii</td>\n",
       "      <td>Crime and breaking news/social media/web @dail...</td>\n",
       "      <td>False</td>\n",
       "      <td>22905</td>\n",
       "      <td>16357</td>\n",
       "      <td>Wed Feb 24 07:00:45 +0000 2010</td>\n",
       "      <td>5249</td>\n",
       "      <td>True</td>\n",
       "      <td>50919</td>\n",
       "      <td>NaN</td>\n",
       "    </tr>\n",
       "    <tr>\n",
       "      <th>4</th>\n",
       "      <td>16666502</td>\n",
       "      <td>City of Boulder</td>\n",
       "      <td>bouldercolorado</td>\n",
       "      <td>Boulder, Colorado</td>\n",
       "      <td>The City of Boulder municipal government has s...</td>\n",
       "      <td>False</td>\n",
       "      <td>91188</td>\n",
       "      <td>308</td>\n",
       "      <td>Thu Oct 09 14:08:38 +0000 2008</td>\n",
       "      <td>4173</td>\n",
       "      <td>True</td>\n",
       "      <td>19911</td>\n",
       "      <td>NaN</td>\n",
       "    </tr>\n",
       "  </tbody>\n",
       "</table>\n",
       "</div>"
      ],
      "text/plain": [
       "           id             name      screen_name                      location  \\\n",
       "0  1857870864   Aaron Brockett  AaronBrockett12                   Boulder, CO   \n",
       "1    14504258     Daily Camera      dailycamera                Boulder, Colo.   \n",
       "2    43194865        Eric Budd        ericmbudd             Boulder, Colorado   \n",
       "3   117004374   Mitchell Byars    mitchellbyars  Boulder, CO via Kona, Hawaii   \n",
       "4    16666502  City of Boulder  bouldercolorado             Boulder, Colorado   \n",
       "\n",
       "                                         description  protected  \\\n",
       "0  Parent, spouse, software developer. Member of ...      False   \n",
       "1  The Daily Camera newspaper in Boulder, Colo., ...      False   \n",
       "2  the econ side of everything. board/team @bould...      False   \n",
       "3  Crime and breaking news/social media/web @dail...      False   \n",
       "4  The City of Boulder municipal government has s...      False   \n",
       "\n",
       "   followers_count  friends_count                      created_at  \\\n",
       "0             2235           1464  Thu Sep 12 16:43:01 +0000 2013   \n",
       "1            95167           1207  Thu Apr 24 01:16:03 +0000 2008   \n",
       "2             7363          10000  Thu May 28 20:57:54 +0000 2009   \n",
       "3            22905          16357  Wed Feb 24 07:00:45 +0000 2010   \n",
       "4            91188            308  Thu Oct 09 14:08:38 +0000 2008   \n",
       "\n",
       "   favourites_count  verified  statuses_count suspended  \n",
       "0             44325     False            7289       NaN  \n",
       "1               353      True           95586       NaN  \n",
       "2            382651      True          124047       NaN  \n",
       "3              5249      True           50919       NaN  \n",
       "4              4173      True           19911       NaN  "
      ]
     },
     "execution_count": 54,
     "metadata": {},
     "output_type": "execute_result"
    }
   ],
   "source": [
    "fof_lookup_df = pd.read_csv('friend_of_friend_lookup.csv')\n",
    "print(len(fof_lookup_df))\n",
    "fof_lookup_df.head()"
   ]
  },
  {
   "cell_type": "code",
   "execution_count": 51,
   "id": "f7306dd6",
   "metadata": {},
   "outputs": [],
   "source": [
    "friends_id_sns_d = {str(k):v for k,v in fof_lookup_df[['id','screen_name']].set_index('id')['screen_name'].to_dict().items()}"
   ]
  },
  {
   "cell_type": "code",
   "execution_count": 53,
   "id": "fcc8e1fe",
   "metadata": {},
   "outputs": [
    {
     "name": "stdout",
     "output_type": "stream",
     "text": [
      "There are 683 nodes and 63,697 edges.\n",
      "The density is: 0.137\n"
     ]
    }
   ],
   "source": [
    "g = nx.DiGraph()\n",
    "\n",
    "for _id1, _id_l in repaired_friends_d.items():\n",
    "    for _id2 in _id_l:\n",
    "        if str(_id2) in repaired_friends_d.keys():\n",
    "            try:\n",
    "                _id1_sn = friends_id_sns_d[str(_id1)].lower()\n",
    "                _id2_sn = friends_id_sns_d[str(_id2)].lower()\n",
    "                g.add_edge(_id1_sn,_id2_sn)\n",
    "            except:\n",
    "                pass\n",
    "            \n",
    "print(\"There are {0:,} nodes and {1:,} edges.\".format(g.number_of_nodes(), g.number_of_edges()))\n",
    "\n",
    "print(\"The density is: {0:.3f}\".format(nx.density(g)))"
   ]
  },
  {
   "cell_type": "markdown",
   "id": "6893dda4",
   "metadata": {},
   "source": [
    "Add Jaccard scores."
   ]
  },
  {
   "cell_type": "code",
   "execution_count": 58,
   "id": "4d6ce37a",
   "metadata": {},
   "outputs": [],
   "source": [
    "def in_jaccard_scores(g,i,j):\n",
    "    _intersection = set(g.pred[i]) & set(g.pred[j])\n",
    "    _union = set(g.pred[i]) | set(g.pred[j])\n",
    "    \n",
    "    if len(_union) > 0:\n",
    "        return len(_intersection) / len(_union)\n",
    "    else:\n",
    "        return 0\n",
    "\n",
    "def out_jaccard_scores(g,i,j):\n",
    "    _intersection = set(g.succ[i]) & set(g.succ[j])\n",
    "    _union = set(g.succ[i]) | set(g.succ[j])\n",
    "    \n",
    "    if len(_union) > 0:\n",
    "        return len(_intersection) / len(_union)\n",
    "    else:\n",
    "        return 0"
   ]
  },
  {
   "cell_type": "code",
   "execution_count": 62,
   "id": "a3276de5",
   "metadata": {},
   "outputs": [
    {
     "data": {
      "text/plain": [
       "0.1531322505800464"
      ]
     },
     "execution_count": 62,
     "metadata": {},
     "output_type": "execute_result"
    }
   ],
   "source": [
    "in_jaccard_scores(g,'jaredpolis','bkeegan')"
   ]
  },
  {
   "cell_type": "code",
   "execution_count": 63,
   "id": "8d3806ce",
   "metadata": {},
   "outputs": [
    {
     "data": {
      "text/plain": [
       "0.26785714285714285"
      ]
     },
     "execution_count": 63,
     "metadata": {},
     "output_type": "execute_result"
    }
   ],
   "source": [
    "out_jaccard_scores(g,'jaredpolis','bkeegan')"
   ]
  },
  {
   "cell_type": "code",
   "execution_count": 59,
   "id": "cddf20b5",
   "metadata": {},
   "outputs": [],
   "source": [
    "for i,j,d in g.edges(data=True):\n",
    "    d['in_jaccard'] = in_jaccard_scores(g,i,j)\n",
    "    d['out_jaccard'] = out_jaccard_scores(g,i,j)"
   ]
  },
  {
   "cell_type": "markdown",
   "id": "0a5f0170",
   "metadata": {},
   "source": [
    "Add node attributes."
   ]
  },
  {
   "cell_type": "code",
   "execution_count": 384,
   "id": "f83f609c",
   "metadata": {},
   "outputs": [],
   "source": [
    "g_nodes_lookup_df = friend_lookup_df[friend_lookup_df['screen_name'].str.lower().isin(g.nodes())].copy()\n",
    "\n",
    "g_nodes_lookup_df['created_at'] = pd.to_datetime(g_nodes_lookup_df['created_at']).dt.year\n",
    "\n",
    "g_nodes_lookup_list = g_nodes_lookup_df.to_dict('records')\n",
    "\n",
    "g_nodes_lookup_list = [(d['screen_name'].lower(),d) for d in g_nodes_lookup_list]\n",
    "\n",
    "g.add_nodes_from(g_nodes_lookup_list)"
   ]
  },
  {
   "cell_type": "code",
   "execution_count": 385,
   "id": "28b19dea",
   "metadata": {},
   "outputs": [],
   "source": [
    "nx.write_gexf(g,'boulder_politics.gexf')"
   ]
  },
  {
   "cell_type": "markdown",
   "id": "9b89d3f9",
   "metadata": {},
   "source": [
    "Which council members follow me?"
   ]
  },
  {
   "cell_type": "code",
   "execution_count": 78,
   "id": "61deb39b",
   "metadata": {},
   "outputs": [
    {
     "data": {
      "text/plain": [
       "{'aaronbrockett12', 'junie4boulder', 'rachelkfriend', 'sampweaver'}"
      ]
     },
     "execution_count": 78,
     "metadata": {},
     "output_type": "execute_result"
    }
   ],
   "source": [
    "set(dict(g.pred['bkeegan']).keys()) & set([d['account_name'].lower() for m,d in members.items() if d['account_name'] is not None])"
   ]
  },
  {
   "cell_type": "code",
   "execution_count": 79,
   "id": "114e2e97",
   "metadata": {},
   "outputs": [
    {
     "data": {
      "text/plain": [
       "{'boulderlauren4', 'mbforboulder'}"
      ]
     },
     "execution_count": 79,
     "metadata": {},
     "output_type": "execute_result"
    }
   ],
   "source": [
    "set(dict(g.pred['bkeegan']).keys()) & set([d['account_name'].lower() for m,d in candidates.items() if d['account_name'] is not None])"
   ]
  },
  {
   "cell_type": "markdown",
   "id": "4bb38a0e",
   "metadata": {},
   "source": [
    "Make a DataFrame of Jaccard scores."
   ]
  },
  {
   "cell_type": "code",
   "execution_count": 60,
   "id": "42a6b81a",
   "metadata": {},
   "outputs": [
    {
     "data": {
      "text/html": [
       "<div>\n",
       "<style scoped>\n",
       "    .dataframe tbody tr th:only-of-type {\n",
       "        vertical-align: middle;\n",
       "    }\n",
       "\n",
       "    .dataframe tbody tr th {\n",
       "        vertical-align: top;\n",
       "    }\n",
       "\n",
       "    .dataframe thead th {\n",
       "        text-align: right;\n",
       "    }\n",
       "</style>\n",
       "<table border=\"1\" class=\"dataframe\">\n",
       "  <thead>\n",
       "    <tr style=\"text-align: right;\">\n",
       "      <th></th>\n",
       "      <th>in_jaccard</th>\n",
       "      <th>out_jaccard</th>\n",
       "    </tr>\n",
       "  </thead>\n",
       "  <tbody>\n",
       "    <tr>\n",
       "      <th>0</th>\n",
       "      <td>0.013158</td>\n",
       "      <td>0.013158</td>\n",
       "    </tr>\n",
       "    <tr>\n",
       "      <th>1</th>\n",
       "      <td>0.061914</td>\n",
       "      <td>0.061914</td>\n",
       "    </tr>\n",
       "    <tr>\n",
       "      <th>2</th>\n",
       "      <td>0.009416</td>\n",
       "      <td>0.009416</td>\n",
       "    </tr>\n",
       "    <tr>\n",
       "      <th>3</th>\n",
       "      <td>0.039548</td>\n",
       "      <td>0.039548</td>\n",
       "    </tr>\n",
       "    <tr>\n",
       "      <th>4</th>\n",
       "      <td>0.186916</td>\n",
       "      <td>0.186916</td>\n",
       "    </tr>\n",
       "  </tbody>\n",
       "</table>\n",
       "</div>"
      ],
      "text/plain": [
       "   in_jaccard  out_jaccard\n",
       "0    0.013158     0.013158\n",
       "1    0.061914     0.061914\n",
       "2    0.009416     0.009416\n",
       "3    0.039548     0.039548\n",
       "4    0.186916     0.186916"
      ]
     },
     "execution_count": 60,
     "metadata": {},
     "output_type": "execute_result"
    }
   ],
   "source": [
    "jaccard_df = pd.DataFrame([{'in_jaccard':d['in_jaccard'],'out_jaccard':d['in_jaccard']} for i,j,d in g.edges(data=True)])\n",
    "jaccard_df.head()"
   ]
  },
  {
   "cell_type": "code",
   "execution_count": 68,
   "id": "32bc8574",
   "metadata": {},
   "outputs": [
    {
     "data": {
      "text/plain": [
       "0.09526351319528392"
      ]
     },
     "execution_count": 68,
     "metadata": {},
     "output_type": "execute_result"
    }
   ],
   "source": [
    "# How many out-jaccard scores are greater than .33?\n",
    "len(jaccard_df[jaccard_df['out_jaccard'] > .33]) / len(jaccard_df)"
   ]
  },
  {
   "cell_type": "code",
   "execution_count": 116,
   "id": "a501ecfd",
   "metadata": {},
   "outputs": [
    {
     "data": {
      "image/png": "[encoded data removed]",
      "text/plain": [
       "<Figure size 720x288 with 2 Axes>"
      ]
     },
     "metadata": {
      "needs_background": "light"
     },
     "output_type": "display_data"
    }
   ],
   "source": [
    "axs = jaccard_df.hist(figsize=(10,4),bins=np.logspace(-3,0,25))\n",
    "axs[0,0].set_xscale('log')\n",
    "axs[0,1].set_xscale('log')\n",
    "axs[0,0].set_yscale('log')\n",
    "axs[0,1].set_yscale('log')\n",
    "axs[0,0].set_ylabel('Count')\n",
    "axs[0,0].set_xlabel('Jaccard score')\n",
    "axs[0,1].set_xlabel('Jaccard score')\n",
    "\n",
    "axs[0,0].axvline(0.33,c='r',lw=2,ls='--')\n",
    "axs[0,1].axvline(0.33,c='r',lw=2,ls='--')\n",
    "\n",
    "axs[0,0].set_title('in-Jaccard')\n",
    "axs[0,1].set_title('out-Jaccard')\n",
    "\n",
    "ax.set_facecolor('white')\n",
    "\n",
    "plt.tight_layout()\n",
    "plt.savefig('jaccard_distribution.png',dpi=300,bbox_inches='tight')"
   ]
  },
  {
   "cell_type": "markdown",
   "id": "9ce3f3a0",
   "metadata": {},
   "source": [
    "## Key players"
   ]
  },
  {
   "cell_type": "markdown",
   "id": "e5942629",
   "metadata": {},
   "source": [
    "### Degree centrality\n",
    "\n",
    "In-degree centrality."
   ]
  },
  {
   "cell_type": "code",
   "execution_count": 85,
   "id": "437ba696",
   "metadata": {},
   "outputs": [
    {
     "data": {
      "text/plain": [
       "aaronbrockett12    529.0\n",
       "dailycamera        463.0\n",
       "ericmbudd          461.0\n",
       "mitchellbyars      460.0\n",
       "bouldercolorado    459.0\n",
       "shayshinecastle    448.0\n",
       "alex_burness       412.0\n",
       "jaredpolis         411.0\n",
       "rachelkfriend      404.0\n",
       "bouldercounty      367.0\n",
       "dtype: float64"
      ]
     },
     "execution_count": 85,
     "metadata": {},
     "output_type": "execute_result"
    }
   ],
   "source": [
    "idc_s = pd.Series({n:c*(len(g) - 1) for n,c in nx.in_degree_centrality(g).items()})\n",
    "idc_s.sort_values(ascending=False).head(10)"
   ]
  },
  {
   "cell_type": "markdown",
   "id": "c72067f5",
   "metadata": {},
   "source": [
    "Out-degree centrality."
   ]
  },
  {
   "cell_type": "code",
   "execution_count": 86,
   "id": "9180162f",
   "metadata": {},
   "outputs": [
    {
     "data": {
      "text/plain": [
       "aaronbrockett12    565.0\n",
       "boulderbedrooms    532.0\n",
       "lsweeneymiran      492.0\n",
       "newr_boulder       435.0\n",
       "rockymntnpols      434.0\n",
       "sarahdawnh         415.0\n",
       "abetterboulder     398.0\n",
       "cprwarner          376.0\n",
       "boulderprogress    375.0\n",
       "liz_marasco        369.0\n",
       "dtype: float64"
      ]
     },
     "execution_count": 86,
     "metadata": {},
     "output_type": "execute_result"
    }
   ],
   "source": [
    "odc_s = pd.Series({n:c*(len(g) - 1) for n,c in nx.out_degree_centrality(g).items()})\n",
    "odc_s.sort_values(ascending=False).head(10)"
   ]
  },
  {
   "cell_type": "markdown",
   "id": "9a010cfc",
   "metadata": {},
   "source": [
    "Weighted in-degree."
   ]
  },
  {
   "cell_type": "code",
   "execution_count": 98,
   "id": "e06b3dc3",
   "metadata": {},
   "outputs": [],
   "source": [
    "def weighted_out_degree(g,weight):\n",
    "    wod = {}\n",
    "    for node in g.nodes():\n",
    "        sum_weights = sum([d[weight] for n,d in g.succ[node].items()])\n",
    "        num_neighbors = len(g.succ[node])\n",
    "        if num_neighbors > 0:\n",
    "            wod[node] = sum_weights / num_neighbors\n",
    "        else:\n",
    "            wod[node] = 0\n",
    "            \n",
    "    return wod"
   ]
  },
  {
   "cell_type": "code",
   "execution_count": 102,
   "id": "80ffff52",
   "metadata": {},
   "outputs": [
    {
     "data": {
      "text/plain": [
       "vp               0.578730\n",
       "joebiden         0.572623\n",
       "whitehouse       0.563868\n",
       "potus            0.533377\n",
       "michelleobama    0.513021\n",
       "kamalaharris     0.478433\n",
       "senwarren        0.451268\n",
       "ewarren          0.421512\n",
       "coloradosun      0.415169\n",
       "neiltyson        0.403704\n",
       "dtype: float64"
      ]
     },
     "execution_count": 102,
     "metadata": {},
     "output_type": "execute_result"
    }
   ],
   "source": [
    "pd.Series(weighted_out_degree(g,'in_jaccard')).sort_values(ascending=False).head(10)"
   ]
  },
  {
   "cell_type": "code",
   "execution_count": null,
   "id": "6440b2b4",
   "metadata": {},
   "outputs": [],
   "source": []
  },
  {
   "cell_type": "markdown",
   "id": "9f862b25",
   "metadata": {},
   "source": [
    "### Betweenness centrality"
   ]
  },
  {
   "cell_type": "code",
   "execution_count": 87,
   "id": "b0a38e6b",
   "metadata": {},
   "outputs": [
    {
     "data": {
      "text/plain": [
       "aaronbrockett12    0.089409\n",
       "boulderbedrooms    0.029283\n",
       "ericmbudd          0.025633\n",
       "abetterboulder     0.024799\n",
       "junie4boulder      0.022152\n",
       "rachelkfriend      0.021230\n",
       "cprwarner          0.021162\n",
       "lsweeneymiran      0.019784\n",
       "mitchellbyars      0.019737\n",
       "boulderprogress    0.016174\n",
       "dtype: float64"
      ]
     },
     "execution_count": 87,
     "metadata": {},
     "output_type": "execute_result"
    }
   ],
   "source": [
    "bc_s = pd.Series(nx.betweenness_centrality(g))\n",
    "bc_s.sort_values(ascending=False).head(10)"
   ]
  },
  {
   "cell_type": "markdown",
   "id": "c75725f8",
   "metadata": {},
   "source": [
    "### Closeness centrality"
   ]
  },
  {
   "cell_type": "code",
   "execution_count": 88,
   "id": "1c60b5d6",
   "metadata": {},
   "outputs": [
    {
     "data": {
      "text/plain": [
       "aaronbrockett12    0.765248\n",
       "ericmbudd          0.715068\n",
       "dailycamera        0.711956\n",
       "mitchellbyars      0.711182\n",
       "bouldercolorado    0.707338\n",
       "shayshinecastle    0.695311\n",
       "jaredpolis         0.682260\n",
       "rachelkfriend      0.678721\n",
       "alex_burness       0.675917\n",
       "govofco            0.654287\n",
       "dtype: float64"
      ]
     },
     "execution_count": 88,
     "metadata": {},
     "output_type": "execute_result"
    }
   ],
   "source": [
    "cc_s = pd.Series(nx.closeness_centrality(g))\n",
    "cc_s.sort_values(ascending=False).head(10)"
   ]
  },
  {
   "cell_type": "markdown",
   "id": "ce5dcf48",
   "metadata": {},
   "source": [
    "### Eigenvector centrality"
   ]
  },
  {
   "cell_type": "code",
   "execution_count": 89,
   "id": "555d68e9",
   "metadata": {},
   "outputs": [
    {
     "data": {
      "text/plain": [
       "aaronbrockett12    0.127497\n",
       "dailycamera        0.123659\n",
       "mitchellbyars      0.121997\n",
       "bouldercolorado    0.116513\n",
       "jaredpolis         0.115543\n",
       "ericmbudd          0.115326\n",
       "alex_burness       0.113954\n",
       "shayshinecastle    0.113711\n",
       "kcbecker           0.104815\n",
       "bouldercounty      0.102910\n",
       "dtype: float64"
      ]
     },
     "execution_count": 89,
     "metadata": {},
     "output_type": "execute_result"
    }
   ],
   "source": [
    "ec_s = pd.Series(nx.eigenvector_centrality(g))\n",
    "ec_s.sort_values(ascending=False).head(10)"
   ]
  },
  {
   "cell_type": "markdown",
   "id": "112ccfd2",
   "metadata": {},
   "source": [
    "### All centralities"
   ]
  },
  {
   "cell_type": "code",
   "execution_count": 104,
   "id": "c1f24662",
   "metadata": {},
   "outputs": [
    {
     "data": {
      "text/html": [
       "<div>\n",
       "<style scoped>\n",
       "    .dataframe tbody tr th:only-of-type {\n",
       "        vertical-align: middle;\n",
       "    }\n",
       "\n",
       "    .dataframe tbody tr th {\n",
       "        vertical-align: top;\n",
       "    }\n",
       "\n",
       "    .dataframe thead th {\n",
       "        text-align: right;\n",
       "    }\n",
       "</style>\n",
       "<table border=\"1\" class=\"dataframe\">\n",
       "  <thead>\n",
       "    <tr style=\"text-align: right;\">\n",
       "      <th></th>\n",
       "      <th>In-degree</th>\n",
       "      <th>Out-degree</th>\n",
       "      <th>Betweenness</th>\n",
       "      <th>Closeness</th>\n",
       "      <th>Eigenvector</th>\n",
       "    </tr>\n",
       "  </thead>\n",
       "  <tbody>\n",
       "    <tr>\n",
       "      <th>aaronbrockett12</th>\n",
       "      <td>529.0</td>\n",
       "      <td>565.0</td>\n",
       "      <td>0.089409</td>\n",
       "      <td>0.765248</td>\n",
       "      <td>0.127497</td>\n",
       "    </tr>\n",
       "    <tr>\n",
       "      <th>adamfennel</th>\n",
       "      <td>10.0</td>\n",
       "      <td>59.0</td>\n",
       "      <td>0.000024</td>\n",
       "      <td>0.459794</td>\n",
       "      <td>0.006050</td>\n",
       "    </tr>\n",
       "    <tr>\n",
       "      <th>ridiculeslie</th>\n",
       "      <td>37.0</td>\n",
       "      <td>33.0</td>\n",
       "      <td>0.000038</td>\n",
       "      <td>0.471389</td>\n",
       "      <td>0.016554</td>\n",
       "    </tr>\n",
       "    <tr>\n",
       "      <th>lindakeyesmd</th>\n",
       "      <td>7.0</td>\n",
       "      <td>50.0</td>\n",
       "      <td>0.000006</td>\n",
       "      <td>0.453422</td>\n",
       "      <td>0.004834</td>\n",
       "    </tr>\n",
       "    <tr>\n",
       "      <th>quantum_graeme</th>\n",
       "      <td>23.0</td>\n",
       "      <td>87.0</td>\n",
       "      <td>0.000108</td>\n",
       "      <td>0.458506</td>\n",
       "      <td>0.008227</td>\n",
       "    </tr>\n",
       "  </tbody>\n",
       "</table>\n",
       "</div>"
      ],
      "text/plain": [
       "                 In-degree  Out-degree  Betweenness  Closeness  Eigenvector\n",
       "aaronbrockett12      529.0       565.0     0.089409   0.765248     0.127497\n",
       "adamfennel            10.0        59.0     0.000024   0.459794     0.006050\n",
       "ridiculeslie          37.0        33.0     0.000038   0.471389     0.016554\n",
       "lindakeyesmd           7.0        50.0     0.000006   0.453422     0.004834\n",
       "quantum_graeme        23.0        87.0     0.000108   0.458506     0.008227"
      ]
     },
     "execution_count": 104,
     "metadata": {},
     "output_type": "execute_result"
    }
   ],
   "source": [
    "centrality_df = pd.DataFrame({\n",
    "    'In-degree': idc_s,\n",
    "    'Out-degree': odc_s,\n",
    "    'Betweenness': bc_s,\n",
    "    'Closeness': cc_s,\n",
    "    'Eigenvector': ec_s\n",
    "})\n",
    "\n",
    "centrality_df.to_csv('centralities.csv')\n",
    "\n",
    "centrality_df.head()"
   ]
  },
  {
   "cell_type": "code",
   "execution_count": null,
   "id": "04d3abf0",
   "metadata": {},
   "outputs": [],
   "source": []
  }
 ],
 "metadata": {
  "kernelspec": {
   "display_name": "Python 3 (ipykernel)",
   "language": "python",
   "name": "python3"
  },
  "language_info": {
   "codemirror_mode": {
    "name": "ipython",
    "version": 3
   },
   "file_extension": ".py",
   "mimetype": "text/x-python",
   "name": "python",
   "nbconvert_exporter": "python",
   "pygments_lexer": "ipython3",
   "version": "3.9.6"
  }
 },
 "nbformat": 4,
 "nbformat_minor": 5
}
