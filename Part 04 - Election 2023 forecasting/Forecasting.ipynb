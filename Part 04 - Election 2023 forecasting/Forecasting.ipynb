{
 "cells": [
  {
   "cell_type": "markdown",
   "id": "248b4d03-af9b-4137-9dea-7a66fb3e49a1",
   "metadata": {},
   "source": [
    "# Election 2023 forecasting\n",
    "\n",
    "[Brian C. Keegan, Ph.D.](http://brianckeegan.com/)  \n",
    "[Assistant Professor, Department of Information Science](https://www.colorado.edu/cmci/people/information-science/brian-c-keegan)  \n",
    "University of Colorado Boulder  \n",
    "\n",
    "Copyright and distributed under an [MIT License](https://opensource.org/licenses/MIT)  "
   ]
  },
  {
   "cell_type": "markdown",
   "id": "379cb99a-dab8-4b46-aa4e-b963608b6d82",
   "metadata": {},
   "source": [
    "## Import libraries"
   ]
  },
  {
   "cell_type": "code",
   "execution_count": 1,
   "id": "09fcbf1d-a0b0-42d5-83c7-9ce413a3a9a3",
   "metadata": {},
   "outputs": [],
   "source": [
    "import numpy as np\n",
    "\n",
    "import pandas as pd\n",
    "\n",
    "%matplotlib inline\n",
    "import matplotlib.pyplot as plt\n",
    "from matplotlib import ticker\n",
    "\n",
    "import seaborn as sb\n",
    "from scipy import stats"
   ]
  },
  {
   "cell_type": "markdown",
   "id": "52d85359-3f5e-44db-964e-f16d16a849dd",
   "metadata": {},
   "source": [
    "## Election information\n",
    "\n",
    "After the polls close at 7pm on Election day, the Boulder County Clerk begins to publish batches of voting results for all the races: https://election.boco.solutions/ElectionResults2023C \n",
    "\n",
    "These batched results are released every 8-12 hours. We kept a spreadsheet of how the results changed across all the batches."
   ]
  },
  {
   "cell_type": "code",
   "execution_count": 2,
   "id": "e35116a2-3e5c-496b-be0a-a0074c67b5bd",
   "metadata": {},
   "outputs": [
    {
     "data": {
      "text/html": [
       "<div>\n",
       "<style scoped>\n",
       "    .dataframe tbody tr th:only-of-type {\n",
       "        vertical-align: middle;\n",
       "    }\n",
       "\n",
       "    .dataframe tbody tr th {\n",
       "        vertical-align: top;\n",
       "    }\n",
       "\n",
       "    .dataframe thead th {\n",
       "        text-align: right;\n",
       "    }\n",
       "</style>\n",
       "<table border=\"1\" class=\"dataframe\">\n",
       "  <thead>\n",
       "    <tr style=\"text-align: right;\">\n",
       "      <th></th>\n",
       "      <th>Race / Candidate</th>\n",
       "      <th>Race</th>\n",
       "      <th>2023-11-07 19:36:00</th>\n",
       "      <th>2023-11-07 20:47:00</th>\n",
       "      <th>2023-11-07 23:00:00</th>\n",
       "      <th>2023-11-08 00:50:00</th>\n",
       "      <th>2023-11-08 16:30:00</th>\n",
       "      <th>2023-11-08 22:00:00</th>\n",
       "      <th>2023-11-16 16:30:00</th>\n",
       "    </tr>\n",
       "  </thead>\n",
       "  <tbody>\n",
       "    <tr>\n",
       "      <th>0</th>\n",
       "      <td>Aaron Brockett (First Round)</td>\n",
       "      <td>Mayor - First Round</td>\n",
       "      <td>4801</td>\n",
       "      <td>6661</td>\n",
       "      <td>8207</td>\n",
       "      <td>9116</td>\n",
       "      <td>10290</td>\n",
       "      <td>11347</td>\n",
       "      <td>11504</td>\n",
       "    </tr>\n",
       "    <tr>\n",
       "      <th>1</th>\n",
       "      <td>Nicole Speer (First Round)</td>\n",
       "      <td>Mayor - First Round</td>\n",
       "      <td>2408</td>\n",
       "      <td>3309</td>\n",
       "      <td>4065</td>\n",
       "      <td>4627</td>\n",
       "      <td>5404</td>\n",
       "      <td>6271</td>\n",
       "      <td>6369</td>\n",
       "    </tr>\n",
       "    <tr>\n",
       "      <th>2</th>\n",
       "      <td>Bob Yates (First Round)</td>\n",
       "      <td>Mayor - First Round</td>\n",
       "      <td>7414</td>\n",
       "      <td>9479</td>\n",
       "      <td>11250</td>\n",
       "      <td>12190</td>\n",
       "      <td>13186</td>\n",
       "      <td>14087</td>\n",
       "      <td>14271</td>\n",
       "    </tr>\n",
       "    <tr>\n",
       "      <th>3</th>\n",
       "      <td>Paul Tweedlie (First Round)</td>\n",
       "      <td>Mayor - First Round</td>\n",
       "      <td>291</td>\n",
       "      <td>372</td>\n",
       "      <td>473</td>\n",
       "      <td>553</td>\n",
       "      <td>637</td>\n",
       "      <td>729</td>\n",
       "      <td>749</td>\n",
       "    </tr>\n",
       "    <tr>\n",
       "      <th>4</th>\n",
       "      <td>Aaron (Second Round)</td>\n",
       "      <td>Mayor - Second Round</td>\n",
       "      <td>6747</td>\n",
       "      <td>9370</td>\n",
       "      <td>11576</td>\n",
       "      <td>12957</td>\n",
       "      <td>14806</td>\n",
       "      <td>16580</td>\n",
       "      <td>16823</td>\n",
       "    </tr>\n",
       "    <tr>\n",
       "      <th>5</th>\n",
       "      <td>Bob (Second Round)</td>\n",
       "      <td>Mayor - Second Round</td>\n",
       "      <td>7975</td>\n",
       "      <td>10209</td>\n",
       "      <td>12124</td>\n",
       "      <td>13178</td>\n",
       "      <td>14309</td>\n",
       "      <td>15382</td>\n",
       "      <td>15592</td>\n",
       "    </tr>\n",
       "    <tr>\n",
       "      <th>6</th>\n",
       "      <td>Tara Winer</td>\n",
       "      <td>City Council</td>\n",
       "      <td>10418</td>\n",
       "      <td>13608</td>\n",
       "      <td>16290</td>\n",
       "      <td>17803</td>\n",
       "      <td>19467</td>\n",
       "      <td>20970</td>\n",
       "      <td>21255</td>\n",
       "    </tr>\n",
       "    <tr>\n",
       "      <th>7</th>\n",
       "      <td>Ryan Schuchard</td>\n",
       "      <td>City Council</td>\n",
       "      <td>6056</td>\n",
       "      <td>8363</td>\n",
       "      <td>10217</td>\n",
       "      <td>11372</td>\n",
       "      <td>12860</td>\n",
       "      <td>14215</td>\n",
       "      <td>14412</td>\n",
       "    </tr>\n",
       "    <tr>\n",
       "      <th>8</th>\n",
       "      <td>Taishya Adams</td>\n",
       "      <td>City Council</td>\n",
       "      <td>6061</td>\n",
       "      <td>8358</td>\n",
       "      <td>10253</td>\n",
       "      <td>11422</td>\n",
       "      <td>12997</td>\n",
       "      <td>14448</td>\n",
       "      <td>14634</td>\n",
       "    </tr>\n",
       "    <tr>\n",
       "      <th>9</th>\n",
       "      <td>Terri Brncic</td>\n",
       "      <td>City Council</td>\n",
       "      <td>7278</td>\n",
       "      <td>9385</td>\n",
       "      <td>11157</td>\n",
       "      <td>12167</td>\n",
       "      <td>13199</td>\n",
       "      <td>14173</td>\n",
       "      <td>14365</td>\n",
       "    </tr>\n",
       "    <tr>\n",
       "      <th>10</th>\n",
       "      <td>Tina Marquis</td>\n",
       "      <td>City Council</td>\n",
       "      <td>7838</td>\n",
       "      <td>10051</td>\n",
       "      <td>11867</td>\n",
       "      <td>12862</td>\n",
       "      <td>13839</td>\n",
       "      <td>14769</td>\n",
       "      <td>14959</td>\n",
       "    </tr>\n",
       "    <tr>\n",
       "      <th>11</th>\n",
       "      <td>Waylon Lewis</td>\n",
       "      <td>City Council</td>\n",
       "      <td>3860</td>\n",
       "      <td>5244</td>\n",
       "      <td>6353</td>\n",
       "      <td>7068</td>\n",
       "      <td>7928</td>\n",
       "      <td>8745</td>\n",
       "      <td>8863</td>\n",
       "    </tr>\n",
       "    <tr>\n",
       "      <th>12</th>\n",
       "      <td>Jenny Robins</td>\n",
       "      <td>City Council</td>\n",
       "      <td>5912</td>\n",
       "      <td>7507</td>\n",
       "      <td>8801</td>\n",
       "      <td>9546</td>\n",
       "      <td>10310</td>\n",
       "      <td>11077</td>\n",
       "      <td>11247</td>\n",
       "    </tr>\n",
       "    <tr>\n",
       "      <th>13</th>\n",
       "      <td>Silas Atkins</td>\n",
       "      <td>City Council</td>\n",
       "      <td>2464</td>\n",
       "      <td>3560</td>\n",
       "      <td>4416</td>\n",
       "      <td>4985</td>\n",
       "      <td>5857</td>\n",
       "      <td>6719</td>\n",
       "      <td>6831</td>\n",
       "    </tr>\n",
       "    <tr>\n",
       "      <th>14</th>\n",
       "      <td>Jacques Decalo</td>\n",
       "      <td>City Council</td>\n",
       "      <td>1389</td>\n",
       "      <td>1854</td>\n",
       "      <td>2281</td>\n",
       "      <td>2549</td>\n",
       "      <td>2905</td>\n",
       "      <td>3277</td>\n",
       "      <td>3329</td>\n",
       "    </tr>\n",
       "    <tr>\n",
       "      <th>15</th>\n",
       "      <td>Aaron Neyer</td>\n",
       "      <td>City Council</td>\n",
       "      <td>1293</td>\n",
       "      <td>1804</td>\n",
       "      <td>2268</td>\n",
       "      <td>2563</td>\n",
       "      <td>3000</td>\n",
       "      <td>3432</td>\n",
       "      <td>3484</td>\n",
       "    </tr>\n",
       "  </tbody>\n",
       "</table>\n",
       "</div>"
      ],
      "text/plain": [
       "                Race / Candidate                  Race  2023-11-07 19:36:00  \\\n",
       "0   Aaron Brockett (First Round)   Mayor - First Round                 4801   \n",
       "1     Nicole Speer (First Round)   Mayor - First Round                 2408   \n",
       "2        Bob Yates (First Round)   Mayor - First Round                 7414   \n",
       "3    Paul Tweedlie (First Round)   Mayor - First Round                  291   \n",
       "4           Aaron (Second Round)  Mayor - Second Round                 6747   \n",
       "5             Bob (Second Round)  Mayor - Second Round                 7975   \n",
       "6                     Tara Winer          City Council                10418   \n",
       "7                 Ryan Schuchard          City Council                 6056   \n",
       "8                  Taishya Adams          City Council                 6061   \n",
       "9                   Terri Brncic          City Council                 7278   \n",
       "10                  Tina Marquis          City Council                 7838   \n",
       "11                  Waylon Lewis          City Council                 3860   \n",
       "12                  Jenny Robins          City Council                 5912   \n",
       "13                  Silas Atkins          City Council                 2464   \n",
       "14                Jacques Decalo          City Council                 1389   \n",
       "15                   Aaron Neyer          City Council                 1293   \n",
       "\n",
       "    2023-11-07 20:47:00  2023-11-07 23:00:00  2023-11-08 00:50:00  \\\n",
       "0                  6661                 8207                 9116   \n",
       "1                  3309                 4065                 4627   \n",
       "2                  9479                11250                12190   \n",
       "3                   372                  473                  553   \n",
       "4                  9370                11576                12957   \n",
       "5                 10209                12124                13178   \n",
       "6                 13608                16290                17803   \n",
       "7                  8363                10217                11372   \n",
       "8                  8358                10253                11422   \n",
       "9                  9385                11157                12167   \n",
       "10                10051                11867                12862   \n",
       "11                 5244                 6353                 7068   \n",
       "12                 7507                 8801                 9546   \n",
       "13                 3560                 4416                 4985   \n",
       "14                 1854                 2281                 2549   \n",
       "15                 1804                 2268                 2563   \n",
       "\n",
       "    2023-11-08 16:30:00  2023-11-08 22:00:00  2023-11-16 16:30:00  \n",
       "0                 10290                11347                11504  \n",
       "1                  5404                 6271                 6369  \n",
       "2                 13186                14087                14271  \n",
       "3                   637                  729                  749  \n",
       "4                 14806                16580                16823  \n",
       "5                 14309                15382                15592  \n",
       "6                 19467                20970                21255  \n",
       "7                 12860                14215                14412  \n",
       "8                 12997                14448                14634  \n",
       "9                 13199                14173                14365  \n",
       "10                13839                14769                14959  \n",
       "11                 7928                 8745                 8863  \n",
       "12                10310                11077                11247  \n",
       "13                 5857                 6719                 6831  \n",
       "14                 2905                 3277                 3329  \n",
       "15                 3000                 3432                 3484  "
      ]
     },
     "execution_count": 2,
     "metadata": {},
     "output_type": "execute_result"
    }
   ],
   "source": [
    "election_df = pd.read_csv('boulder_election_2023.csv')\n",
    "\n",
    "election_df.columns = election_df.columns[:2].tolist() + pd.to_datetime(election_df.columns[2:],format='%m/%d/%y %H:%M').tolist()\n",
    "\n",
    "election_df"
   ]
  },
  {
   "cell_type": "markdown",
   "id": "d108e9b9-6e39-4422-b0bb-51e1cc41defe",
   "metadata": {},
   "source": [
    "Filter to City Council races."
   ]
  },
  {
   "cell_type": "code",
   "execution_count": 3,
   "id": "efc364ba-db2c-4fce-9911-7dcc6d0fce9c",
   "metadata": {},
   "outputs": [
    {
     "data": {
      "text/html": [
       "<div>\n",
       "<style scoped>\n",
       "    .dataframe tbody tr th:only-of-type {\n",
       "        vertical-align: middle;\n",
       "    }\n",
       "\n",
       "    .dataframe tbody tr th {\n",
       "        vertical-align: top;\n",
       "    }\n",
       "\n",
       "    .dataframe thead th {\n",
       "        text-align: right;\n",
       "    }\n",
       "</style>\n",
       "<table border=\"1\" class=\"dataframe\">\n",
       "  <thead>\n",
       "    <tr style=\"text-align: right;\">\n",
       "      <th></th>\n",
       "      <th>Race / Candidate</th>\n",
       "      <th>Race</th>\n",
       "      <th>2023-11-07 19:36:00</th>\n",
       "      <th>2023-11-07 20:47:00</th>\n",
       "      <th>2023-11-07 23:00:00</th>\n",
       "      <th>2023-11-08 00:50:00</th>\n",
       "      <th>2023-11-08 16:30:00</th>\n",
       "      <th>2023-11-08 22:00:00</th>\n",
       "      <th>2023-11-16 16:30:00</th>\n",
       "    </tr>\n",
       "  </thead>\n",
       "  <tbody>\n",
       "    <tr>\n",
       "      <th>6</th>\n",
       "      <td>Tara Winer</td>\n",
       "      <td>City Council</td>\n",
       "      <td>10418</td>\n",
       "      <td>13608</td>\n",
       "      <td>16290</td>\n",
       "      <td>17803</td>\n",
       "      <td>19467</td>\n",
       "      <td>20970</td>\n",
       "      <td>21255</td>\n",
       "    </tr>\n",
       "    <tr>\n",
       "      <th>7</th>\n",
       "      <td>Ryan Schuchard</td>\n",
       "      <td>City Council</td>\n",
       "      <td>6056</td>\n",
       "      <td>8363</td>\n",
       "      <td>10217</td>\n",
       "      <td>11372</td>\n",
       "      <td>12860</td>\n",
       "      <td>14215</td>\n",
       "      <td>14412</td>\n",
       "    </tr>\n",
       "    <tr>\n",
       "      <th>8</th>\n",
       "      <td>Taishya Adams</td>\n",
       "      <td>City Council</td>\n",
       "      <td>6061</td>\n",
       "      <td>8358</td>\n",
       "      <td>10253</td>\n",
       "      <td>11422</td>\n",
       "      <td>12997</td>\n",
       "      <td>14448</td>\n",
       "      <td>14634</td>\n",
       "    </tr>\n",
       "    <tr>\n",
       "      <th>9</th>\n",
       "      <td>Terri Brncic</td>\n",
       "      <td>City Council</td>\n",
       "      <td>7278</td>\n",
       "      <td>9385</td>\n",
       "      <td>11157</td>\n",
       "      <td>12167</td>\n",
       "      <td>13199</td>\n",
       "      <td>14173</td>\n",
       "      <td>14365</td>\n",
       "    </tr>\n",
       "    <tr>\n",
       "      <th>10</th>\n",
       "      <td>Tina Marquis</td>\n",
       "      <td>City Council</td>\n",
       "      <td>7838</td>\n",
       "      <td>10051</td>\n",
       "      <td>11867</td>\n",
       "      <td>12862</td>\n",
       "      <td>13839</td>\n",
       "      <td>14769</td>\n",
       "      <td>14959</td>\n",
       "    </tr>\n",
       "    <tr>\n",
       "      <th>11</th>\n",
       "      <td>Waylon Lewis</td>\n",
       "      <td>City Council</td>\n",
       "      <td>3860</td>\n",
       "      <td>5244</td>\n",
       "      <td>6353</td>\n",
       "      <td>7068</td>\n",
       "      <td>7928</td>\n",
       "      <td>8745</td>\n",
       "      <td>8863</td>\n",
       "    </tr>\n",
       "    <tr>\n",
       "      <th>12</th>\n",
       "      <td>Jenny Robins</td>\n",
       "      <td>City Council</td>\n",
       "      <td>5912</td>\n",
       "      <td>7507</td>\n",
       "      <td>8801</td>\n",
       "      <td>9546</td>\n",
       "      <td>10310</td>\n",
       "      <td>11077</td>\n",
       "      <td>11247</td>\n",
       "    </tr>\n",
       "    <tr>\n",
       "      <th>13</th>\n",
       "      <td>Silas Atkins</td>\n",
       "      <td>City Council</td>\n",
       "      <td>2464</td>\n",
       "      <td>3560</td>\n",
       "      <td>4416</td>\n",
       "      <td>4985</td>\n",
       "      <td>5857</td>\n",
       "      <td>6719</td>\n",
       "      <td>6831</td>\n",
       "    </tr>\n",
       "    <tr>\n",
       "      <th>14</th>\n",
       "      <td>Jacques Decalo</td>\n",
       "      <td>City Council</td>\n",
       "      <td>1389</td>\n",
       "      <td>1854</td>\n",
       "      <td>2281</td>\n",
       "      <td>2549</td>\n",
       "      <td>2905</td>\n",
       "      <td>3277</td>\n",
       "      <td>3329</td>\n",
       "    </tr>\n",
       "    <tr>\n",
       "      <th>15</th>\n",
       "      <td>Aaron Neyer</td>\n",
       "      <td>City Council</td>\n",
       "      <td>1293</td>\n",
       "      <td>1804</td>\n",
       "      <td>2268</td>\n",
       "      <td>2563</td>\n",
       "      <td>3000</td>\n",
       "      <td>3432</td>\n",
       "      <td>3484</td>\n",
       "    </tr>\n",
       "  </tbody>\n",
       "</table>\n",
       "</div>"
      ],
      "text/plain": [
       "   Race / Candidate          Race  2023-11-07 19:36:00  2023-11-07 20:47:00  \\\n",
       "6        Tara Winer  City Council                10418                13608   \n",
       "7    Ryan Schuchard  City Council                 6056                 8363   \n",
       "8     Taishya Adams  City Council                 6061                 8358   \n",
       "9      Terri Brncic  City Council                 7278                 9385   \n",
       "10     Tina Marquis  City Council                 7838                10051   \n",
       "11     Waylon Lewis  City Council                 3860                 5244   \n",
       "12     Jenny Robins  City Council                 5912                 7507   \n",
       "13     Silas Atkins  City Council                 2464                 3560   \n",
       "14   Jacques Decalo  City Council                 1389                 1854   \n",
       "15      Aaron Neyer  City Council                 1293                 1804   \n",
       "\n",
       "    2023-11-07 23:00:00  2023-11-08 00:50:00  2023-11-08 16:30:00  \\\n",
       "6                 16290                17803                19467   \n",
       "7                 10217                11372                12860   \n",
       "8                 10253                11422                12997   \n",
       "9                 11157                12167                13199   \n",
       "10                11867                12862                13839   \n",
       "11                 6353                 7068                 7928   \n",
       "12                 8801                 9546                10310   \n",
       "13                 4416                 4985                 5857   \n",
       "14                 2281                 2549                 2905   \n",
       "15                 2268                 2563                 3000   \n",
       "\n",
       "    2023-11-08 22:00:00  2023-11-16 16:30:00  \n",
       "6                 20970                21255  \n",
       "7                 14215                14412  \n",
       "8                 14448                14634  \n",
       "9                 14173                14365  \n",
       "10                14769                14959  \n",
       "11                 8745                 8863  \n",
       "12                11077                11247  \n",
       "13                 6719                 6831  \n",
       "14                 3277                 3329  \n",
       "15                 3432                 3484  "
      ]
     },
     "execution_count": 3,
     "metadata": {},
     "output_type": "execute_result"
    }
   ],
   "source": [
    "boulder_cc_df = election_df[election_df['Race'].str.contains('City Council')]\n",
    "boulder_cc_df"
   ]
  },
  {
   "cell_type": "markdown",
   "id": "029d036f-20d2-4819-8277-eacd8c9c0e9e",
   "metadata": {},
   "source": [
    "Identify date columns."
   ]
  },
  {
   "cell_type": "code",
   "execution_count": 4,
   "id": "b4fddbe2-4766-4366-9561-de824a3376b4",
   "metadata": {},
   "outputs": [
    {
     "data": {
      "text/plain": [
       "[Timestamp('2023-11-07 19:36:00'),\n",
       " Timestamp('2023-11-07 20:47:00'),\n",
       " Timestamp('2023-11-07 23:00:00'),\n",
       " Timestamp('2023-11-08 00:50:00'),\n",
       " Timestamp('2023-11-08 16:30:00'),\n",
       " Timestamp('2023-11-08 22:00:00'),\n",
       " Timestamp('2023-11-16 16:30:00')]"
      ]
     },
     "execution_count": 4,
     "metadata": {},
     "output_type": "execute_result"
    }
   ],
   "source": [
    "date_cols = election_df.columns[2:].tolist()\n",
    "date_cols"
   ]
  },
  {
   "cell_type": "markdown",
   "id": "f9ddf68e-339f-4e9f-a746-82b74c858a8f",
   "metadata": {},
   "source": [
    "## Visualize"
   ]
  },
  {
   "cell_type": "markdown",
   "id": "87938a17-5641-4f5c-8c43-1908ba1f0b4a",
   "metadata": {},
   "source": [
    "Visualize returns over time."
   ]
  },
  {
   "cell_type": "code",
   "execution_count": 5,
   "id": "b6fba3ba-6648-4a0a-b4af-44b480a72641",
   "metadata": {},
   "outputs": [
    {
     "data": {
      "text/plain": [
       "(4000.0, 22000.0)"
      ]
     },
     "execution_count": 5,
     "metadata": {},
     "output_type": "execute_result"
    },
    {
     "data": {
      "image/png": "[encoded data removed]",
      "text/plain": [
       "<Figure size 640x480 with 1 Axes>"
      ]
     },
     "metadata": {},
     "output_type": "display_data"
    }
   ],
   "source": [
    "vote_count_df = election_df.loc[[6,7,8,9,10],date_cols].T\n",
    "\n",
    "vote_count_df.index = pd.to_datetime(vote_count_df.index)\n",
    "\n",
    "vote_count_df.columns = ['Winer','Schuchard','Adams','Brncic','Marquis']\n",
    "\n",
    "ax = vote_count_df.plot()\n",
    "ax.legend(loc='center left',bbox_to_anchor=(1,.5))\n",
    "ax.set_ylabel('Votes')\n",
    "ax.set_ylim((4000,22000))"
   ]
  },
  {
   "cell_type": "markdown",
   "id": "cec754fa-8beb-426c-bb87-2c68d542f8a5",
   "metadata": {},
   "source": [
    "## Convert to vote shares"
   ]
  },
  {
   "cell_type": "markdown",
   "id": "ec6ef768-069f-440a-97a6-f0f21e276468",
   "metadata": {},
   "source": [
    "Calculate the total number of votes cast per race for each data release."
   ]
  },
  {
   "cell_type": "code",
   "execution_count": 6,
   "id": "060af62d-b9d2-4852-962f-8c6f29f1f4d1",
   "metadata": {},
   "outputs": [
    {
     "data": {
      "text/html": [
       "<div>\n",
       "<style scoped>\n",
       "    .dataframe tbody tr th:only-of-type {\n",
       "        vertical-align: middle;\n",
       "    }\n",
       "\n",
       "    .dataframe tbody tr th {\n",
       "        vertical-align: top;\n",
       "    }\n",
       "\n",
       "    .dataframe thead th {\n",
       "        text-align: right;\n",
       "    }\n",
       "</style>\n",
       "<table border=\"1\" class=\"dataframe\">\n",
       "  <thead>\n",
       "    <tr style=\"text-align: right;\">\n",
       "      <th></th>\n",
       "      <th>2023-11-07 19:36:00</th>\n",
       "      <th>2023-11-07 20:47:00</th>\n",
       "      <th>2023-11-07 23:00:00</th>\n",
       "      <th>2023-11-08 00:50:00</th>\n",
       "      <th>2023-11-08 16:30:00</th>\n",
       "      <th>2023-11-08 22:00:00</th>\n",
       "      <th>2023-11-16 16:30:00</th>\n",
       "    </tr>\n",
       "    <tr>\n",
       "      <th>Race</th>\n",
       "      <th></th>\n",
       "      <th></th>\n",
       "      <th></th>\n",
       "      <th></th>\n",
       "      <th></th>\n",
       "      <th></th>\n",
       "      <th></th>\n",
       "    </tr>\n",
       "  </thead>\n",
       "  <tbody>\n",
       "    <tr>\n",
       "      <th>City Council</th>\n",
       "      <td>52569</td>\n",
       "      <td>69734</td>\n",
       "      <td>83903</td>\n",
       "      <td>92337</td>\n",
       "      <td>102362</td>\n",
       "      <td>111825</td>\n",
       "      <td>113379</td>\n",
       "    </tr>\n",
       "    <tr>\n",
       "      <th>Mayor - First Round</th>\n",
       "      <td>14914</td>\n",
       "      <td>19821</td>\n",
       "      <td>23995</td>\n",
       "      <td>26486</td>\n",
       "      <td>29517</td>\n",
       "      <td>32434</td>\n",
       "      <td>32893</td>\n",
       "    </tr>\n",
       "    <tr>\n",
       "      <th>Mayor - Second Round</th>\n",
       "      <td>14722</td>\n",
       "      <td>19579</td>\n",
       "      <td>23700</td>\n",
       "      <td>26135</td>\n",
       "      <td>29115</td>\n",
       "      <td>31962</td>\n",
       "      <td>32415</td>\n",
       "    </tr>\n",
       "  </tbody>\n",
       "</table>\n",
       "</div>"
      ],
      "text/plain": [
       "                      2023-11-07 19:36:00  2023-11-07 20:47:00  \\\n",
       "Race                                                             \n",
       "City Council                        52569                69734   \n",
       "Mayor - First Round                 14914                19821   \n",
       "Mayor - Second Round                14722                19579   \n",
       "\n",
       "                      2023-11-07 23:00:00  2023-11-08 00:50:00  \\\n",
       "Race                                                             \n",
       "City Council                        83903                92337   \n",
       "Mayor - First Round                 23995                26486   \n",
       "Mayor - Second Round                23700                26135   \n",
       "\n",
       "                      2023-11-08 16:30:00  2023-11-08 22:00:00  \\\n",
       "Race                                                             \n",
       "City Council                       102362               111825   \n",
       "Mayor - First Round                 29517                32434   \n",
       "Mayor - Second Round                29115                31962   \n",
       "\n",
       "                      2023-11-16 16:30:00  \n",
       "Race                                       \n",
       "City Council                       113379  \n",
       "Mayor - First Round                 32893  \n",
       "Mayor - Second Round                32415  "
      ]
     },
     "execution_count": 6,
     "metadata": {},
     "output_type": "execute_result"
    }
   ],
   "source": [
    "race_total_ballots = election_df.groupby('Race')[date_cols].sum()\n",
    "race_total_ballots"
   ]
  },
  {
   "cell_type": "markdown",
   "id": "c86a0e17-a7f9-4fdf-a959-2b758e69f612",
   "metadata": {},
   "source": [
    "Extract the total vote counts for Mayor (first round) and City Council."
   ]
  },
  {
   "cell_type": "code",
   "execution_count": 7,
   "id": "28c90467-0e44-49a9-b01c-eb0b3e901e06",
   "metadata": {},
   "outputs": [],
   "source": [
    "total_mayor_ballots = race_total_ballots.loc['Mayor - First Round']\n",
    "total_council_ballots = race_total_ballots.loc['City Council']"
   ]
  },
  {
   "cell_type": "markdown",
   "id": "a607f33d-bd34-4907-88a6-ef3ce05c9335",
   "metadata": {},
   "source": [
    "Calculate the vote shares as a function of all votes cast in a race."
   ]
  },
  {
   "cell_type": "code",
   "execution_count": 8,
   "id": "4e72dfc1-7c63-491c-86fb-e6df168edbfc",
   "metadata": {},
   "outputs": [
    {
     "data": {
      "text/html": [
       "<div>\n",
       "<style scoped>\n",
       "    .dataframe tbody tr th:only-of-type {\n",
       "        vertical-align: middle;\n",
       "    }\n",
       "\n",
       "    .dataframe tbody tr th {\n",
       "        vertical-align: top;\n",
       "    }\n",
       "\n",
       "    .dataframe thead th {\n",
       "        text-align: right;\n",
       "    }\n",
       "</style>\n",
       "<table border=\"1\" class=\"dataframe\">\n",
       "  <thead>\n",
       "    <tr style=\"text-align: right;\">\n",
       "      <th></th>\n",
       "      <th>Race / Candidate</th>\n",
       "      <th>Race</th>\n",
       "      <th>2023-11-07 19:36:00</th>\n",
       "      <th>2023-11-07 20:47:00</th>\n",
       "      <th>2023-11-07 23:00:00</th>\n",
       "      <th>2023-11-08 00:50:00</th>\n",
       "      <th>2023-11-08 16:30:00</th>\n",
       "      <th>2023-11-08 22:00:00</th>\n",
       "      <th>2023-11-16 16:30:00</th>\n",
       "    </tr>\n",
       "  </thead>\n",
       "  <tbody>\n",
       "    <tr>\n",
       "      <th>6</th>\n",
       "      <td>Tara Winer</td>\n",
       "      <td>City Council</td>\n",
       "      <td>0.198178</td>\n",
       "      <td>0.195142</td>\n",
       "      <td>0.194153</td>\n",
       "      <td>0.192805</td>\n",
       "      <td>0.190178</td>\n",
       "      <td>0.187525</td>\n",
       "      <td>0.187469</td>\n",
       "    </tr>\n",
       "    <tr>\n",
       "      <th>7</th>\n",
       "      <td>Ryan Schuchard</td>\n",
       "      <td>City Council</td>\n",
       "      <td>0.115201</td>\n",
       "      <td>0.119927</td>\n",
       "      <td>0.121772</td>\n",
       "      <td>0.123158</td>\n",
       "      <td>0.125633</td>\n",
       "      <td>0.127118</td>\n",
       "      <td>0.127113</td>\n",
       "    </tr>\n",
       "    <tr>\n",
       "      <th>8</th>\n",
       "      <td>Taishya Adams</td>\n",
       "      <td>City Council</td>\n",
       "      <td>0.115296</td>\n",
       "      <td>0.119855</td>\n",
       "      <td>0.122201</td>\n",
       "      <td>0.123699</td>\n",
       "      <td>0.126971</td>\n",
       "      <td>0.129202</td>\n",
       "      <td>0.129072</td>\n",
       "    </tr>\n",
       "    <tr>\n",
       "      <th>9</th>\n",
       "      <td>Terri Brncic</td>\n",
       "      <td>City Council</td>\n",
       "      <td>0.138447</td>\n",
       "      <td>0.134583</td>\n",
       "      <td>0.132975</td>\n",
       "      <td>0.131767</td>\n",
       "      <td>0.128944</td>\n",
       "      <td>0.126743</td>\n",
       "      <td>0.126699</td>\n",
       "    </tr>\n",
       "    <tr>\n",
       "      <th>10</th>\n",
       "      <td>Tina Marquis</td>\n",
       "      <td>City Council</td>\n",
       "      <td>0.149099</td>\n",
       "      <td>0.144133</td>\n",
       "      <td>0.141437</td>\n",
       "      <td>0.139294</td>\n",
       "      <td>0.135197</td>\n",
       "      <td>0.132072</td>\n",
       "      <td>0.131938</td>\n",
       "    </tr>\n",
       "    <tr>\n",
       "      <th>11</th>\n",
       "      <td>Waylon Lewis</td>\n",
       "      <td>City Council</td>\n",
       "      <td>0.073427</td>\n",
       "      <td>0.075200</td>\n",
       "      <td>0.075718</td>\n",
       "      <td>0.076546</td>\n",
       "      <td>0.077451</td>\n",
       "      <td>0.078203</td>\n",
       "      <td>0.078171</td>\n",
       "    </tr>\n",
       "    <tr>\n",
       "      <th>12</th>\n",
       "      <td>Jenny Robins</td>\n",
       "      <td>City Council</td>\n",
       "      <td>0.112462</td>\n",
       "      <td>0.107652</td>\n",
       "      <td>0.104895</td>\n",
       "      <td>0.103382</td>\n",
       "      <td>0.100721</td>\n",
       "      <td>0.099057</td>\n",
       "      <td>0.099198</td>\n",
       "    </tr>\n",
       "    <tr>\n",
       "      <th>13</th>\n",
       "      <td>Silas Atkins</td>\n",
       "      <td>City Council</td>\n",
       "      <td>0.046872</td>\n",
       "      <td>0.051051</td>\n",
       "      <td>0.052632</td>\n",
       "      <td>0.053987</td>\n",
       "      <td>0.057218</td>\n",
       "      <td>0.060085</td>\n",
       "      <td>0.060249</td>\n",
       "    </tr>\n",
       "    <tr>\n",
       "      <th>14</th>\n",
       "      <td>Jacques Decalo</td>\n",
       "      <td>City Council</td>\n",
       "      <td>0.026422</td>\n",
       "      <td>0.026587</td>\n",
       "      <td>0.027186</td>\n",
       "      <td>0.027605</td>\n",
       "      <td>0.028380</td>\n",
       "      <td>0.029305</td>\n",
       "      <td>0.029362</td>\n",
       "    </tr>\n",
       "    <tr>\n",
       "      <th>15</th>\n",
       "      <td>Aaron Neyer</td>\n",
       "      <td>City Council</td>\n",
       "      <td>0.024596</td>\n",
       "      <td>0.025870</td>\n",
       "      <td>0.027031</td>\n",
       "      <td>0.027757</td>\n",
       "      <td>0.029308</td>\n",
       "      <td>0.030691</td>\n",
       "      <td>0.030729</td>\n",
       "    </tr>\n",
       "  </tbody>\n",
       "</table>\n",
       "</div>"
      ],
      "text/plain": [
       "   Race / Candidate          Race  2023-11-07 19:36:00  2023-11-07 20:47:00  \\\n",
       "6        Tara Winer  City Council             0.198178             0.195142   \n",
       "7    Ryan Schuchard  City Council             0.115201             0.119927   \n",
       "8     Taishya Adams  City Council             0.115296             0.119855   \n",
       "9      Terri Brncic  City Council             0.138447             0.134583   \n",
       "10     Tina Marquis  City Council             0.149099             0.144133   \n",
       "11     Waylon Lewis  City Council             0.073427             0.075200   \n",
       "12     Jenny Robins  City Council             0.112462             0.107652   \n",
       "13     Silas Atkins  City Council             0.046872             0.051051   \n",
       "14   Jacques Decalo  City Council             0.026422             0.026587   \n",
       "15      Aaron Neyer  City Council             0.024596             0.025870   \n",
       "\n",
       "    2023-11-07 23:00:00  2023-11-08 00:50:00  2023-11-08 16:30:00  \\\n",
       "6              0.194153             0.192805             0.190178   \n",
       "7              0.121772             0.123158             0.125633   \n",
       "8              0.122201             0.123699             0.126971   \n",
       "9              0.132975             0.131767             0.128944   \n",
       "10             0.141437             0.139294             0.135197   \n",
       "11             0.075718             0.076546             0.077451   \n",
       "12             0.104895             0.103382             0.100721   \n",
       "13             0.052632             0.053987             0.057218   \n",
       "14             0.027186             0.027605             0.028380   \n",
       "15             0.027031             0.027757             0.029308   \n",
       "\n",
       "    2023-11-08 22:00:00  2023-11-16 16:30:00  \n",
       "6              0.187525             0.187469  \n",
       "7              0.127118             0.127113  \n",
       "8              0.129202             0.129072  \n",
       "9              0.126743             0.126699  \n",
       "10             0.132072             0.131938  \n",
       "11             0.078203             0.078171  \n",
       "12             0.099057             0.099198  \n",
       "13             0.060085             0.060249  \n",
       "14             0.029305             0.029362  \n",
       "15             0.030691             0.030729  "
      ]
     },
     "execution_count": 8,
     "metadata": {},
     "output_type": "execute_result"
    }
   ],
   "source": [
    "boulder_cc_vote_shares = boulder_cc_df.loc[:,date_cols] / total_council_ballots\n",
    "\n",
    "boulder_cc_vote_shares = pd.concat([boulder_cc_df.iloc[:,:2],boulder_cc_vote_shares],axis=1)\n",
    "\n",
    "boulder_cc_vote_shares"
   ]
  },
  {
   "cell_type": "markdown",
   "id": "4c77efc0-2aa8-48f1-9712-8d7097c02eb7",
   "metadata": {},
   "source": [
    "Plot how the vote shares changed over time as more ballots were counted."
   ]
  },
  {
   "cell_type": "code",
   "execution_count": 9,
   "id": "228abe20-f1d2-4904-be2f-1daac6cd3a5c",
   "metadata": {},
   "outputs": [
    {
     "data": {
      "image/png": "[encoded data removed]",
      "text/plain": [
       "<Figure size 640x480 with 1 Axes>"
      ]
     },
     "metadata": {},
     "output_type": "display_data"
    }
   ],
   "source": [
    "vote_share_df = boulder_cc_vote_shares.loc[[6,7,8,9,10],date_cols].T\n",
    "\n",
    "vote_share_df.columns = ['Winer','Schuchard','Adams','Brncic','Marquis']\n",
    "\n",
    "ax = vote_share_df.plot(lw=3)\n",
    "ax.legend(loc='center left',bbox_to_anchor=(1,.5))\n",
    "ax.set_ylabel('Vote share')\n",
    "ax.set_ylim((0.1,0.22))\n",
    "ax.yaxis.set_major_formatter(ticker.PercentFormatter(1,0))"
   ]
  },
  {
   "cell_type": "markdown",
   "id": "e4f75620-7e69-4fb5-8094-911f7750c40d",
   "metadata": {},
   "source": [
    "## Estimate a simple model"
   ]
  },
  {
   "cell_type": "markdown",
   "id": "aaff9e4d-bb3f-47d0-8024-3fa0214ca10c",
   "metadata": {},
   "source": [
    "We estimate a simple linear regression model. The outcome variable (Y) is a candidate's vote share. The input variable (X) is the number of ballots cast in the first round of the mayor's race. This is not an ideal comparison: some voters may have selected council candidates but not mayoral candidates and *vice versa*. However, because voters can select up to four candidates in the City Council race, the vote total is inflated (~113,000 \"votes\" cast for City Council from ~33,000 ballots).\n",
    "\n",
    "Our goal is to estimate a candidate's vote share as a function of the number of ballots cast. Thus we use the first round mayoral votes as an imperfect proxy for all the ballots cast."
   ]
  },
  {
   "cell_type": "code",
   "execution_count": 10,
   "id": "5f709fc8-5f00-4c47-a663-f849688ce98d",
   "metadata": {},
   "outputs": [
    {
     "data": {
      "text/plain": [
       "[14914, 19821, 23995, 26486, 29517, 32434, 32893]"
      ]
     },
     "execution_count": 10,
     "metadata": {},
     "output_type": "execute_result"
    }
   ],
   "source": [
    "# X - number of votes cast\n",
    "total_mayor_ballots.tolist()"
   ]
  },
  {
   "cell_type": "code",
   "execution_count": 11,
   "id": "25a7162c-9b39-4286-93ac-4a221d8e4578",
   "metadata": {},
   "outputs": [
    {
     "data": {
      "text/plain": [
       "[0.11520097395803611,\n",
       " 0.11992715174807124,\n",
       " 0.12177156955055242,\n",
       " 0.1231575641400522,\n",
       " 0.12563255895742562,\n",
       " 0.12711826514643415,\n",
       " 0.1271134866245072]"
      ]
     },
     "execution_count": 11,
     "metadata": {},
     "output_type": "execute_result"
    }
   ],
   "source": [
    "# Y - share of votes received\n",
    "boulder_cc_vote_shares.loc[7,date_cols].values.tolist()"
   ]
  },
  {
   "cell_type": "markdown",
   "id": "4c6c54cf-1c40-40ec-a15b-4b4a2daedc6f",
   "metadata": {},
   "source": [
    "Estimate a linear regression model for Schuchard's vote share as a function of first-round mayor ballots."
   ]
  },
  {
   "cell_type": "code",
   "execution_count": 12,
   "id": "9e6ae20f-2a5d-41c3-a2ca-bdcd5a4c620f",
   "metadata": {},
   "outputs": [
    {
     "data": {
      "text/plain": [
       "LinregressResult(slope=6.456689679985916e-07, intercept=0.1062374879638932, rvalue=0.9932105363760907, pvalue=7.268772067087654e-06, stderr=3.382033567277862e-08, intercept_stderr=0.0008945951190914846)"
      ]
     },
     "execution_count": 12,
     "metadata": {},
     "output_type": "execute_result"
    }
   ],
   "source": [
    "schuchard_model = stats.linregress(\n",
    "    x = total_mayor_ballots.tolist(),\n",
    "    y = boulder_cc_vote_shares.loc[7,date_cols].tolist()\n",
    ")\n",
    "\n",
    "schuchard_model"
   ]
  },
  {
   "cell_type": "markdown",
   "id": "9bc23053-1c00-4569-91fb-54fe31d54547",
   "metadata": {},
   "source": [
    "Estimate a linear regression model for Brncic's vote share as a function of first-round mayor ballots."
   ]
  },
  {
   "cell_type": "code",
   "execution_count": 13,
   "id": "c54bdfc0-f609-499c-be96-997ccdcb57df",
   "metadata": {},
   "outputs": [
    {
     "data": {
      "text/plain": [
       "LinregressResult(slope=-6.451959059288412e-07, intercept=0.14804738652237967, rvalue=-0.9935564279549699, pvalue=6.37925208375423e-06, stderr=3.291483437895958e-08, intercept_stderr=0.0008706433450576883)"
      ]
     },
     "execution_count": 13,
     "metadata": {},
     "output_type": "execute_result"
    }
   ],
   "source": [
    "brncic_model = stats.linregress(\n",
    "    x = total_mayor_ballots.tolist(),\n",
    "    y = boulder_cc_vote_shares.loc[9,date_cols].tolist()\n",
    ")\n",
    "\n",
    "brncic_model"
   ]
  },
  {
   "cell_type": "markdown",
   "id": "9d438c6a-e65e-4aba-8019-84564146a5de",
   "metadata": {},
   "source": [
    "Visualize the relationship."
   ]
  },
  {
   "cell_type": "code",
   "execution_count": 44,
   "id": "0beafd49-1e13-4786-83de-9e7d0faa0a17",
   "metadata": {},
   "outputs": [
    {
     "data": {
      "text/html": [
       "<div>\n",
       "<style scoped>\n",
       "    .dataframe tbody tr th:only-of-type {\n",
       "        vertical-align: middle;\n",
       "    }\n",
       "\n",
       "    .dataframe tbody tr th {\n",
       "        vertical-align: top;\n",
       "    }\n",
       "\n",
       "    .dataframe thead th {\n",
       "        text-align: right;\n",
       "    }\n",
       "</style>\n",
       "<table border=\"1\" class=\"dataframe\">\n",
       "  <thead>\n",
       "    <tr style=\"text-align: right;\">\n",
       "      <th></th>\n",
       "      <th>Ballots</th>\n",
       "      <th>Schuchard</th>\n",
       "      <th>Brncic</th>\n",
       "    </tr>\n",
       "  </thead>\n",
       "  <tbody>\n",
       "    <tr>\n",
       "      <th>0</th>\n",
       "      <td>14914</td>\n",
       "      <td>0.115201</td>\n",
       "      <td>0.138447</td>\n",
       "    </tr>\n",
       "    <tr>\n",
       "      <th>1</th>\n",
       "      <td>19821</td>\n",
       "      <td>0.119927</td>\n",
       "      <td>0.134583</td>\n",
       "    </tr>\n",
       "    <tr>\n",
       "      <th>2</th>\n",
       "      <td>23995</td>\n",
       "      <td>0.121772</td>\n",
       "      <td>0.132975</td>\n",
       "    </tr>\n",
       "    <tr>\n",
       "      <th>3</th>\n",
       "      <td>26486</td>\n",
       "      <td>0.123158</td>\n",
       "      <td>0.131767</td>\n",
       "    </tr>\n",
       "    <tr>\n",
       "      <th>4</th>\n",
       "      <td>29517</td>\n",
       "      <td>0.125633</td>\n",
       "      <td>0.128944</td>\n",
       "    </tr>\n",
       "    <tr>\n",
       "      <th>5</th>\n",
       "      <td>32434</td>\n",
       "      <td>0.127118</td>\n",
       "      <td>0.126743</td>\n",
       "    </tr>\n",
       "    <tr>\n",
       "      <th>6</th>\n",
       "      <td>32893</td>\n",
       "      <td>0.127113</td>\n",
       "      <td>0.126699</td>\n",
       "    </tr>\n",
       "  </tbody>\n",
       "</table>\n",
       "</div>"
      ],
      "text/plain": [
       "   Ballots  Schuchard    Brncic\n",
       "0    14914   0.115201  0.138447\n",
       "1    19821   0.119927  0.134583\n",
       "2    23995   0.121772  0.132975\n",
       "3    26486   0.123158  0.131767\n",
       "4    29517   0.125633  0.128944\n",
       "5    32434   0.127118  0.126743\n",
       "6    32893   0.127113  0.126699"
      ]
     },
     "execution_count": 44,
     "metadata": {},
     "output_type": "execute_result"
    }
   ],
   "source": [
    "modeling_df = pd.DataFrame({\n",
    "    'Ballots':total_mayor_ballots.tolist(),\n",
    "    'Schuchard':boulder_cc_vote_shares.loc[7,date_cols].tolist(),\n",
    "    'Brncic':boulder_cc_vote_shares.loc[9,date_cols].tolist()\n",
    "})\n",
    "\n",
    "modeling_df"
   ]
  },
  {
   "cell_type": "code",
   "execution_count": 45,
   "id": "cbf4911f-84ef-4184-9ada-db5d2e063794",
   "metadata": {},
   "outputs": [
    {
     "data": {
      "image/png": "[encoded data removed]",
      "text/plain": [
       "<Figure size 800x400 with 2 Axes>"
      ]
     },
     "metadata": {},
     "output_type": "display_data"
    }
   ],
   "source": [
    "f,axs = plt.subplots(\n",
    "    nrows = 1,\n",
    "    ncols = 2,\n",
    "    figsize = (8,4),\n",
    "    sharey = True,\n",
    "    subplot_kw = {'ylim':(.11,.14),'xlim':(10000,35000)})\n",
    "\n",
    "sb.regplot(\n",
    "    data = modeling_df,\n",
    "    x = 'Ballots', \n",
    "    y = 'Schuchard',\n",
    "    ax = axs[0],\n",
    "    line_kws = {'color':'k','alpha':.25}\n",
    ")\n",
    "\n",
    "sb.regplot(\n",
    "    data = modeling_df,\n",
    "    x = 'Ballots', \n",
    "    y = 'Brncic',\n",
    "    ax = axs[1],\n",
    "    line_kws = {'color':'k','alpha':.25}\n",
    ")\n",
    "\n",
    "axs[0].set_title('Ryan Schuchard')\n",
    "axs[1].set_title('Terri Brncic')\n",
    "\n",
    "axs[0].set_ylabel('Vote share')\n",
    "axs[1].set_ylabel(None)\n",
    "axs[0].yaxis.set_major_formatter(ticker.PercentFormatter(1,1))\n",
    "\n",
    "axs[0].xaxis.set_major_locator(ticker.MultipleLocator(5000))\n",
    "axs[0].xaxis.set_major_formatter(ticker.StrMethodFormatter('{x:,.0f}'))\n",
    "\n",
    "axs[1].xaxis.set_major_locator(ticker.MultipleLocator(5000))\n",
    "axs[1].xaxis.set_major_formatter(ticker.StrMethodFormatter('{x:,.0f}'))\n",
    "\n",
    "f.tight_layout()\n",
    "f.savefig('voteshare_schuchard_brncic.png',bbox_inches='tight')"
   ]
  },
  {
   "cell_type": "markdown",
   "id": "6f7262e4-d23d-42a4-982d-04d79dde7b0e",
   "metadata": {},
   "source": [
    "Estimate a model assuming 33,000 mayoral ballots."
   ]
  },
  {
   "cell_type": "code",
   "execution_count": 29,
   "id": "17d764b8-f728-424a-8456-9b5c96dd7d54",
   "metadata": {},
   "outputs": [
    {
     "name": "stdout",
     "output_type": "stream",
     "text": [
      "If there are 33,000 ballots cast,\n",
      "\tSchuchard's estimated vote share will be: 12.75%\n",
      "\tBrncic's estimated vote share will be: 12.68%\n",
      "\tA difference of 26 votes.\n"
     ]
    }
   ],
   "source": [
    "total_ballots_cast = 33000\n",
    "\n",
    "schuchard_estimate = schuchard_model.intercept + schuchard_model.slope * total_ballots_cast\n",
    "brncic_estimate = brncic_model.intercept + brncic_model.slope * total_ballots_cast\n",
    "\n",
    "diff = (schuchard_estimate - brncic_estimate) * total_ballots_cast\n",
    "\n",
    "result_string = \"If there are {0:,} ballots cast,\\n\\tSchuchard's estimated vote share will be: {1:.2%}\\n\\tBrncic's estimated vote share will be: {2:.2%}\\n\\tA difference of {3:,.0f} votes.\"\n",
    "print(result_string.format(total_ballots_cast,schuchard_estimate,brncic_estimate,diff))"
   ]
  },
  {
   "cell_type": "markdown",
   "id": "1ae0d5c0-9ebd-49b1-a6c5-8ae8cbd155a7",
   "metadata": {},
   "source": [
    "## Evaluate model performance\n",
    "\n",
    "Let's evaluate the model's performance by comparing its predictions for the exact number of (mayoral) ballots cast against the observed vote shares."
   ]
  },
  {
   "cell_type": "code",
   "execution_count": 47,
   "id": "99aaeeb7-b5b0-4f6e-bc81-f92607f7165c",
   "metadata": {},
   "outputs": [
    {
     "data": {
      "text/plain": [
       "Tara Winer        0.187953\n",
       "Ryan Schuchard    0.127475\n",
       "Taishya Adams     0.129253\n",
       "Terri Brncic      0.126825\n",
       "Tina Marquis      0.132153\n",
       "Waylon Lewis      0.078255\n",
       "Jenny Robins      0.098653\n",
       "Silas Atkins      0.059831\n",
       "Jacques Decalo    0.029087\n",
       "Aaron Neyer       0.030515\n",
       "dtype: float64"
      ]
     },
     "execution_count": 47,
     "metadata": {},
     "output_type": "execute_result"
    }
   ],
   "source": [
    "performance_d = {}\n",
    "\n",
    "X_ballots = total_mayor_ballots\n",
    "\n",
    "for i in range(6,16):\n",
    "    name = boulder_cc_vote_shares.loc[i,'Race / Candidate']\n",
    "    \n",
    "    y_candidate = boulder_cc_vote_shares.loc[i,date_cols].tolist()\n",
    "    model = stats.linregress(X_ballots,y_candidate)\n",
    "\n",
    "    performance_d[name] = model.slope * total_mayor_ballots.tolist()[-1] + model.intercept\n",
    "\n",
    "pd.Series(performance_d)"
   ]
  },
  {
   "cell_type": "markdown",
   "id": "36e3db2c-45c6-4fc4-a069-d1f0ef9508e6",
   "metadata": {},
   "source": [
    "Combine with the actual results and compute the difference between predicted and actual."
   ]
  },
  {
   "cell_type": "code",
   "execution_count": 48,
   "id": "12411aa3-7495-425d-8582-468ce48d8716",
   "metadata": {},
   "outputs": [
    {
     "data": {
      "text/html": [
       "<style type=\"text/css\">\n",
       "</style>\n",
       "<table id=\"T_49647\">\n",
       "  <thead>\n",
       "    <tr>\n",
       "      <th class=\"blank level0\" >&nbsp;</th>\n",
       "      <th id=\"T_49647_level0_col0\" class=\"col_heading level0 col0\" >Predicted</th>\n",
       "      <th id=\"T_49647_level0_col1\" class=\"col_heading level0 col1\" >Actual</th>\n",
       "      <th id=\"T_49647_level0_col2\" class=\"col_heading level0 col2\" >Difference</th>\n",
       "    </tr>\n",
       "  </thead>\n",
       "  <tbody>\n",
       "    <tr>\n",
       "      <th id=\"T_49647_level0_row0\" class=\"row_heading level0 row0\" >Tara Winer</th>\n",
       "      <td id=\"T_49647_row0_col0\" class=\"data row0 col0\" >18.80%</td>\n",
       "      <td id=\"T_49647_row0_col1\" class=\"data row0 col1\" >18.75%</td>\n",
       "      <td id=\"T_49647_row0_col2\" class=\"data row0 col2\" >0.05%</td>\n",
       "    </tr>\n",
       "    <tr>\n",
       "      <th id=\"T_49647_level0_row1\" class=\"row_heading level0 row1\" >Tina Marquis</th>\n",
       "      <td id=\"T_49647_row1_col0\" class=\"data row1 col0\" >13.22%</td>\n",
       "      <td id=\"T_49647_row1_col1\" class=\"data row1 col1\" >13.19%</td>\n",
       "      <td id=\"T_49647_row1_col2\" class=\"data row1 col2\" >0.02%</td>\n",
       "    </tr>\n",
       "    <tr>\n",
       "      <th id=\"T_49647_level0_row2\" class=\"row_heading level0 row2\" >Taishya Adams</th>\n",
       "      <td id=\"T_49647_row2_col0\" class=\"data row2 col0\" >12.93%</td>\n",
       "      <td id=\"T_49647_row2_col1\" class=\"data row2 col1\" >12.91%</td>\n",
       "      <td id=\"T_49647_row2_col2\" class=\"data row2 col2\" >0.02%</td>\n",
       "    </tr>\n",
       "    <tr>\n",
       "      <th id=\"T_49647_level0_row3\" class=\"row_heading level0 row3\" >Ryan Schuchard</th>\n",
       "      <td id=\"T_49647_row3_col0\" class=\"data row3 col0\" >12.75%</td>\n",
       "      <td id=\"T_49647_row3_col1\" class=\"data row3 col1\" >12.71%</td>\n",
       "      <td id=\"T_49647_row3_col2\" class=\"data row3 col2\" >0.04%</td>\n",
       "    </tr>\n",
       "    <tr>\n",
       "      <th id=\"T_49647_level0_row4\" class=\"row_heading level0 row4\" >Terri Brncic</th>\n",
       "      <td id=\"T_49647_row4_col0\" class=\"data row4 col0\" >12.68%</td>\n",
       "      <td id=\"T_49647_row4_col1\" class=\"data row4 col1\" >12.67%</td>\n",
       "      <td id=\"T_49647_row4_col2\" class=\"data row4 col2\" >0.01%</td>\n",
       "    </tr>\n",
       "    <tr>\n",
       "      <th id=\"T_49647_level0_row5\" class=\"row_heading level0 row5\" >Jenny Robins</th>\n",
       "      <td id=\"T_49647_row5_col0\" class=\"data row5 col0\" >9.87%</td>\n",
       "      <td id=\"T_49647_row5_col1\" class=\"data row5 col1\" >9.92%</td>\n",
       "      <td id=\"T_49647_row5_col2\" class=\"data row5 col2\" >-0.05%</td>\n",
       "    </tr>\n",
       "    <tr>\n",
       "      <th id=\"T_49647_level0_row6\" class=\"row_heading level0 row6\" >Waylon Lewis</th>\n",
       "      <td id=\"T_49647_row6_col0\" class=\"data row6 col0\" >7.83%</td>\n",
       "      <td id=\"T_49647_row6_col1\" class=\"data row6 col1\" >7.82%</td>\n",
       "      <td id=\"T_49647_row6_col2\" class=\"data row6 col2\" >0.01%</td>\n",
       "    </tr>\n",
       "    <tr>\n",
       "      <th id=\"T_49647_level0_row7\" class=\"row_heading level0 row7\" >Silas Atkins</th>\n",
       "      <td id=\"T_49647_row7_col0\" class=\"data row7 col0\" >5.98%</td>\n",
       "      <td id=\"T_49647_row7_col1\" class=\"data row7 col1\" >6.02%</td>\n",
       "      <td id=\"T_49647_row7_col2\" class=\"data row7 col2\" >-0.04%</td>\n",
       "    </tr>\n",
       "    <tr>\n",
       "      <th id=\"T_49647_level0_row8\" class=\"row_heading level0 row8\" >Aaron Neyer</th>\n",
       "      <td id=\"T_49647_row8_col0\" class=\"data row8 col0\" >3.05%</td>\n",
       "      <td id=\"T_49647_row8_col1\" class=\"data row8 col1\" >3.07%</td>\n",
       "      <td id=\"T_49647_row8_col2\" class=\"data row8 col2\" >-0.02%</td>\n",
       "    </tr>\n",
       "    <tr>\n",
       "      <th id=\"T_49647_level0_row9\" class=\"row_heading level0 row9\" >Jacques Decalo</th>\n",
       "      <td id=\"T_49647_row9_col0\" class=\"data row9 col0\" >2.91%</td>\n",
       "      <td id=\"T_49647_row9_col1\" class=\"data row9 col1\" >2.94%</td>\n",
       "      <td id=\"T_49647_row9_col2\" class=\"data row9 col2\" >-0.03%</td>\n",
       "    </tr>\n",
       "  </tbody>\n",
       "</table>\n"
      ],
      "text/plain": [
       "<pandas.io.formats.style.Styler at 0x16cecb370>"
      ]
     },
     "execution_count": 48,
     "metadata": {},
     "output_type": "execute_result"
    }
   ],
   "source": [
    "actual = boulder_cc_vote_shares.loc[:,['Race / Candidate',date_cols[-1]]]\n",
    "actual.set_index('Race / Candidate',inplace=True)\n",
    "\n",
    "evaluation_df = pd.DataFrame({\n",
    "    'Predicted':pd.Series(performance_d),\n",
    "    'Actual':actual[date_cols[-1]]\n",
    "})\n",
    "\n",
    "evaluation_df['Difference'] = evaluation_df['Predicted'] - evaluation_df['Actual']\n",
    "evaluation_df.sort_values('Actual',ascending=False).style.format('{:,.2%}'.format)"
   ]
  },
  {
   "cell_type": "markdown",
   "id": "c9027cb5-a47a-401e-ac69-300a4c20da11",
   "metadata": {},
   "source": [
    "## Sample from model"
   ]
  },
  {
   "cell_type": "markdown",
   "id": "5276a5fd-22c2-4ca5-ba19-e78150bf75ef",
   "metadata": {},
   "source": [
    "There are standard errors on both the slope and intercept estimates. Sample from a normal distribution around each's estimates."
   ]
  },
  {
   "cell_type": "code",
   "execution_count": 33,
   "id": "5743e2b8-5900-4db5-86e8-7a78b017d79d",
   "metadata": {},
   "outputs": [
    {
     "data": {
      "text/html": [
       "<div>\n",
       "<style scoped>\n",
       "    .dataframe tbody tr th:only-of-type {\n",
       "        vertical-align: middle;\n",
       "    }\n",
       "\n",
       "    .dataframe tbody tr th {\n",
       "        vertical-align: top;\n",
       "    }\n",
       "\n",
       "    .dataframe thead th {\n",
       "        text-align: right;\n",
       "    }\n",
       "</style>\n",
       "<table border=\"1\" class=\"dataframe\">\n",
       "  <thead>\n",
       "    <tr style=\"text-align: right;\">\n",
       "      <th></th>\n",
       "      <th>Tara Winer</th>\n",
       "      <th>Ryan Schuchard</th>\n",
       "      <th>Taishya Adams</th>\n",
       "      <th>Terri Brncic</th>\n",
       "      <th>Tina Marquis</th>\n",
       "      <th>Waylon Lewis</th>\n",
       "      <th>Jenny Robins</th>\n",
       "      <th>Silas Atkins</th>\n",
       "      <th>Jacques Decalo</th>\n",
       "      <th>Aaron Neyer</th>\n",
       "    </tr>\n",
       "  </thead>\n",
       "  <tbody>\n",
       "    <tr>\n",
       "      <th>0</th>\n",
       "      <td>0.185888</td>\n",
       "      <td>0.126513</td>\n",
       "      <td>0.129722</td>\n",
       "      <td>0.127397</td>\n",
       "      <td>0.130535</td>\n",
       "      <td>0.079148</td>\n",
       "      <td>0.099101</td>\n",
       "      <td>0.056565</td>\n",
       "      <td>0.029210</td>\n",
       "      <td>0.029445</td>\n",
       "    </tr>\n",
       "    <tr>\n",
       "      <th>1</th>\n",
       "      <td>0.187964</td>\n",
       "      <td>0.126625</td>\n",
       "      <td>0.130667</td>\n",
       "      <td>0.125834</td>\n",
       "      <td>0.131409</td>\n",
       "      <td>0.077648</td>\n",
       "      <td>0.098186</td>\n",
       "      <td>0.058724</td>\n",
       "      <td>0.026830</td>\n",
       "      <td>0.030526</td>\n",
       "    </tr>\n",
       "    <tr>\n",
       "      <th>2</th>\n",
       "      <td>0.188730</td>\n",
       "      <td>0.126810</td>\n",
       "      <td>0.130883</td>\n",
       "      <td>0.125572</td>\n",
       "      <td>0.133533</td>\n",
       "      <td>0.078675</td>\n",
       "      <td>0.096712</td>\n",
       "      <td>0.060622</td>\n",
       "      <td>0.028964</td>\n",
       "      <td>0.029767</td>\n",
       "    </tr>\n",
       "    <tr>\n",
       "      <th>3</th>\n",
       "      <td>0.187795</td>\n",
       "      <td>0.126560</td>\n",
       "      <td>0.128191</td>\n",
       "      <td>0.127217</td>\n",
       "      <td>0.132496</td>\n",
       "      <td>0.077916</td>\n",
       "      <td>0.097005</td>\n",
       "      <td>0.061238</td>\n",
       "      <td>0.027340</td>\n",
       "      <td>0.031543</td>\n",
       "    </tr>\n",
       "    <tr>\n",
       "      <th>4</th>\n",
       "      <td>0.192737</td>\n",
       "      <td>0.128741</td>\n",
       "      <td>0.127258</td>\n",
       "      <td>0.128619</td>\n",
       "      <td>0.131894</td>\n",
       "      <td>0.077917</td>\n",
       "      <td>0.098189</td>\n",
       "      <td>0.056022</td>\n",
       "      <td>0.027950</td>\n",
       "      <td>0.029160</td>\n",
       "    </tr>\n",
       "  </tbody>\n",
       "</table>\n",
       "</div>"
      ],
      "text/plain": [
       "   Tara Winer  Ryan Schuchard  Taishya Adams  Terri Brncic  Tina Marquis  \\\n",
       "0    0.185888        0.126513       0.129722      0.127397      0.130535   \n",
       "1    0.187964        0.126625       0.130667      0.125834      0.131409   \n",
       "2    0.188730        0.126810       0.130883      0.125572      0.133533   \n",
       "3    0.187795        0.126560       0.128191      0.127217      0.132496   \n",
       "4    0.192737        0.128741       0.127258      0.128619      0.131894   \n",
       "\n",
       "   Waylon Lewis  Jenny Robins  Silas Atkins  Jacques Decalo  Aaron Neyer  \n",
       "0      0.079148      0.099101      0.056565        0.029210     0.029445  \n",
       "1      0.077648      0.098186      0.058724        0.026830     0.030526  \n",
       "2      0.078675      0.096712      0.060622        0.028964     0.029767  \n",
       "3      0.077916      0.097005      0.061238        0.027340     0.031543  \n",
       "4      0.077917      0.098189      0.056022        0.027950     0.029160  "
      ]
     },
     "execution_count": 33,
     "metadata": {},
     "output_type": "execute_result"
    }
   ],
   "source": [
    "sample_size = 10000\n",
    "\n",
    "X_ballots = total_mayor_ballots\n",
    "\n",
    "estimates_d = {}\n",
    "\n",
    "for i in range(6,16):\n",
    "    name = boulder_cc_vote_shares.loc[i,'Race / Candidate']\n",
    "    \n",
    "    y_candidate = boulder_cc_vote_shares.loc[i,date_cols].tolist()\n",
    "    model = stats.linregress(X_ballots,y_candidate)\n",
    "\n",
    "    # Sample from standard errors\n",
    "    slopes = np.random.normal(size=sample_size) * model.stderr + model.slope\n",
    "    intercepts = np.random.normal(size=sample_size) * model.intercept_stderr + model.intercept\n",
    "    estimates_d[name] = slopes * total_ballots_cast + intercepts\n",
    "\n",
    "estimates_df = pd.DataFrame(estimates_d)\n",
    "estimates_df.head()"
   ]
  },
  {
   "cell_type": "markdown",
   "id": "50a2bc66-2d08-453d-829e-dd789e1b62b9",
   "metadata": {},
   "source": [
    "Plot the distribution of model estimates of vote shares for each candidate from `estimates_df`."
   ]
  },
  {
   "cell_type": "code",
   "execution_count": 34,
   "id": "b2c7e112-e24c-4b33-8632-aa1d7b343ea3",
   "metadata": {},
   "outputs": [
    {
     "data": {
      "image/png": "[encoded data removed]",
      "text/plain": [
       "<Figure size 800x400 with 1 Axes>"
      ]
     },
     "metadata": {},
     "output_type": "display_data"
    }
   ],
   "source": [
    "_df = estimates_df.stack().reset_index(level=1)\n",
    "_df.columns = ['Candidate','Estimate']\n",
    "\n",
    "f,ax = plt.subplots(figsize=(8,4))\n",
    "\n",
    "sb.histplot(\n",
    "    data = _df,\n",
    "    x = 'Estimate',\n",
    "    hue = 'Candidate',\n",
    "    stat = 'probability',\n",
    "    common_norm = False,\n",
    "    bins = 100,\n",
    "    kde = True,\n",
    "    palette = 'tab10',\n",
    "    ax = ax\n",
    ")\n",
    "\n",
    "sb.move_legend(ax,'center left',bbox_to_anchor=(1,.5))\n",
    "\n",
    "ax.set_xlabel('Estimated vote share')\n",
    "ax.xaxis.set_major_formatter(ticker.PercentFormatter(1))\n",
    "ax.yaxis.set_major_formatter(ticker.PercentFormatter(1))\n",
    "\n",
    "f.tight_layout()\n",
    "# f.savefig('all_races.png')"
   ]
  },
  {
   "cell_type": "markdown",
   "id": "3e0bdbe8-2f63-41ca-9012-6b4ac8b88b28",
   "metadata": {},
   "source": [
    "Zoom in and focus on the four closest races between Adams, Brncic, Marquis, and Schuchard."
   ]
  },
  {
   "cell_type": "code",
   "execution_count": 35,
   "id": "3085c99b-36af-4ef4-99ac-bd5edbee63f5",
   "metadata": {},
   "outputs": [
    {
     "data": {
      "image/png": "[encoded data removed]",
      "text/plain": [
       "<Figure size 800x400 with 1 Axes>"
      ]
     },
     "metadata": {},
     "output_type": "display_data"
    }
   ],
   "source": [
    "f,ax = plt.subplots(figsize=(8,4))\n",
    "\n",
    "sb.histplot(\n",
    "    data = _df[_df['Candidate'].isin(['Ryan Schuchard','Taishya Adams','Terri Brncic','Tina Marquis'])],\n",
    "    x = 'Estimate',\n",
    "    hue = 'Candidate',\n",
    "    stat = 'probability',\n",
    "    common_norm = False,\n",
    "    bins = 50,\n",
    "    kde = True,\n",
    "    palette = 'tab10',\n",
    "    ax = ax\n",
    ")\n",
    "\n",
    "sb.move_legend(ax,'center left',bbox_to_anchor=(1,.5))\n",
    "\n",
    "ax.set_xlabel('Estimated vote share')\n",
    "ax.set_xlim((.12,.14))\n",
    "ax.set_ylim((0,.12))\n",
    "ax.xaxis.set_major_formatter(ticker.PercentFormatter(1))\n",
    "ax.yaxis.set_major_formatter(ticker.PercentFormatter(1))\n",
    "\n",
    "f.tight_layout()\n",
    "# f.savefig('close_races.png')"
   ]
  },
  {
   "cell_type": "markdown",
   "id": "a05fcf51-9468-433f-b382-1f453b0dfdb2",
   "metadata": {},
   "source": [
    "What percentage of the time does Schuchard beat Brncic?"
   ]
  },
  {
   "cell_type": "code",
   "execution_count": 36,
   "id": "2ea51e74-64f3-418b-aa0f-1d5ad1a51e99",
   "metadata": {},
   "outputs": [
    {
     "data": {
      "text/plain": [
       "0.6546"
      ]
     },
     "execution_count": 36,
     "metadata": {},
     "output_type": "execute_result"
    }
   ],
   "source": [
    "(estimates_df['Ryan Schuchard'] > estimates_df['Terri Brncic']).sum() / sample_size"
   ]
  },
  {
   "cell_type": "markdown",
   "id": "f8338eca-5471-4571-a3fd-6dcd9b15fd96",
   "metadata": {},
   "source": [
    "### Grid search"
   ]
  },
  {
   "cell_type": "markdown",
   "id": "54ed46da-e077-4d2e-a3ca-6117e8f3c794",
   "metadata": {},
   "source": [
    "Use the standard errors around the estimates to extrapolate worst case to best case models assuming that the regression models' slopes for Scuchard and Brncic are inversely related with each other. In a best case scenario, if Schuchard's goes up, Brncic's goes down a similar amount. In a worst case scenario, if Schchard's goes down, Brncic's goes up a similar amount.\n",
    "\n",
    "Perform a grid search over the worst case to best case model scenarios and different amounts of voter turnout."
   ]
  },
  {
   "cell_type": "code",
   "execution_count": 37,
   "id": "3f7e59fa-2fae-402d-abe7-948fd4b50201",
   "metadata": {},
   "outputs": [],
   "source": [
    "steps = 25\n",
    "\n",
    "# Worst case to best case model slopes for Schuchard\n",
    "schuchard_slopes = np.linspace(schuchard_model.slope - schuchard_model.stderr, schuchard_model.slope + schuchard_model.stderr, steps)\n",
    "\n",
    "# Best case to worst case model slopes for Brncic\n",
    "brncic_slopes = np.linspace(brncic_model.slope + brncic_model.stderr, brncic_model.slope - brncic_model.stderr, steps)\n",
    "\n",
    "# Mayoral ballot counts in the range between 32,500 and 33,500\n",
    "ballots = np.linspace(32500,33500,steps)\n",
    "\n",
    "# Empty container to store results\n",
    "grid_search_d = {}\n",
    "\n",
    "# For each model and each number of ballots, estimate how much Schuchard beats Brncic by\n",
    "for i in range(steps):\n",
    "\n",
    "    grid_search_d[i] = {}\n",
    "        \n",
    "    for b in ballots:\n",
    "        schuchard_share = schuchard_slopes[i] * b + schuchard_model.intercept\n",
    "        brncic_share = brncic_slopes[i] * b + brncic_model.intercept\n",
    "        grid_search_d[i][b] = schuchard_share - brncic_share"
   ]
  },
  {
   "cell_type": "markdown",
   "id": "7d930d08-983c-4987-99c0-2d5d2d6b35fe",
   "metadata": {},
   "source": [
    "Visualize as a heatmap."
   ]
  },
  {
   "cell_type": "code",
   "execution_count": 38,
   "id": "00a8d735-7cf0-4c4d-8ea1-637c884bd1c2",
   "metadata": {},
   "outputs": [
    {
     "data": {
      "image/png": "[encoded data removed]",
      "text/plain": [
       "<Figure size 800x600 with 2 Axes>"
      ]
     },
     "metadata": {},
     "output_type": "display_data"
    }
   ],
   "source": [
    "f,ax = plt.subplots(figsize=(8,6))\n",
    "\n",
    "sb.heatmap(\n",
    "    data = pd.DataFrame(grid_search_d),\n",
    "    cmap = 'bwr_r',\n",
    "    vmin = -0.003,\n",
    "    vmax = 0.004,\n",
    "    center = 0,\n",
    "    cbar_kws = {'label':'Schuchard margin','format':ticker.PercentFormatter(1)},\n",
    "    yticklabels = 2,\n",
    "    ax = ax\n",
    ")\n",
    "\n",
    "ax.set_xticklabels([])\n",
    "ax.set_yticklabels([\"{:,.0f}\".format(float(tick._text)) for tick in ax.get_yticklabels()])\n",
    "ax.set_xlabel('Worst case (left) to Best case (right) models')\n",
    "ax.set_ylabel('Total ballots')\n",
    "ax.invert_yaxis()\n",
    "\n",
    "f.tight_layout()\n",
    "# f.savefig('model_grid_search.png',bbox_inches='tight')"
   ]
  },
  {
   "cell_type": "markdown",
   "id": "00aa1f5b-db9c-4eb2-9dfd-55f46eefe61b",
   "metadata": {},
   "source": [
    "In how many scenarios from this grid search does Schuchard have a positive margin (wins)?"
   ]
  },
  {
   "cell_type": "code",
   "execution_count": 39,
   "id": "c13bfc04-4e71-4da8-8afd-24ae183837c2",
   "metadata": {},
   "outputs": [
    {
     "data": {
      "text/plain": [
       "0.672"
      ]
     },
     "execution_count": 39,
     "metadata": {},
     "output_type": "execute_result"
    }
   ],
   "source": [
    "_s = pd.DataFrame(grid_search_d).stack()\n",
    "len(_s[_s > 0]) / len(_s)"
   ]
  },
  {
   "cell_type": "code",
   "execution_count": null,
   "id": "9ffd80a2-ccc7-4974-bb9a-b0fffdc13d5b",
   "metadata": {},
   "outputs": [],
   "source": []
  }
 ],
 "metadata": {
  "kernelspec": {
   "display_name": "Python 3 (ipykernel)",
   "language": "python",
   "name": "python3"
  },
  "language_info": {
   "codemirror_mode": {
    "name": "ipython",
    "version": 3
   },
   "file_extension": ".py",
   "mimetype": "text/x-python",
   "name": "python",
   "nbconvert_exporter": "python",
   "pygments_lexer": "ipython3",
   "version": "3.9.18"
  }
 },
 "nbformat": 4,
 "nbformat_minor": 5
}
